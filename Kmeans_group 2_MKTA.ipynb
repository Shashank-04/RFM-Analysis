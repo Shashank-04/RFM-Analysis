{
 "cells": [
  {
   "cell_type": "markdown",
   "metadata": {
    "colab_type": "text",
    "id": "BOLvj2d_nilh"
   },
   "source": [
    "# K-Means Clusterning"
   ]
  },
  {
   "cell_type": "code",
   "execution_count": 2,
   "metadata": {
    "colab": {},
    "colab_type": "code",
    "id": "wBqDufndneCe"
   },
   "outputs": [],
   "source": [
    "import pandas as pd \n",
    "import numpy as np\n",
    "import matplotlib.pyplot as plt\n",
    "import seaborn as sns\n",
    "import warnings\n",
    "warnings.filterwarnings('ignore')\n",
    "\n",
    "%matplotlib inline"
   ]
  },
  {
   "cell_type": "code",
   "execution_count": 3,
   "metadata": {
    "colab": {},
    "colab_type": "code",
    "id": "DP_pRd5zneCi"
   },
   "outputs": [],
   "source": [
    "df = pd.read_csv(\"E:\\\\Praxis\\\\College_ppt\\\\Market Research(PD)\\\\RFM Analysis\\\\purchases.txt\", sep='\\s+', header=None)"
   ]
  },
  {
   "cell_type": "code",
   "execution_count": 4,
   "metadata": {
    "colab": {},
    "colab_type": "code",
    "id": "RWqOcxTFneCl",
    "outputId": "63919046-97be-4a51-8eb0-b6e27aba64fd"
   },
   "outputs": [
    {
     "data": {
      "text/html": [
       "<div>\n",
       "<style scoped>\n",
       "    .dataframe tbody tr th:only-of-type {\n",
       "        vertical-align: middle;\n",
       "    }\n",
       "\n",
       "    .dataframe tbody tr th {\n",
       "        vertical-align: top;\n",
       "    }\n",
       "\n",
       "    .dataframe thead th {\n",
       "        text-align: right;\n",
       "    }\n",
       "</style>\n",
       "<table border=\"1\" class=\"dataframe\">\n",
       "  <thead>\n",
       "    <tr style=\"text-align: right;\">\n",
       "      <th></th>\n",
       "      <th>0</th>\n",
       "      <th>1</th>\n",
       "      <th>2</th>\n",
       "    </tr>\n",
       "  </thead>\n",
       "  <tbody>\n",
       "    <tr>\n",
       "      <td>0</td>\n",
       "      <td>760</td>\n",
       "      <td>25.0</td>\n",
       "      <td>2009-11-06</td>\n",
       "    </tr>\n",
       "    <tr>\n",
       "      <td>1</td>\n",
       "      <td>860</td>\n",
       "      <td>50.0</td>\n",
       "      <td>2012-09-28</td>\n",
       "    </tr>\n",
       "    <tr>\n",
       "      <td>2</td>\n",
       "      <td>1200</td>\n",
       "      <td>100.0</td>\n",
       "      <td>2005-10-25</td>\n",
       "    </tr>\n",
       "    <tr>\n",
       "      <td>3</td>\n",
       "      <td>1420</td>\n",
       "      <td>50.0</td>\n",
       "      <td>2009-07-09</td>\n",
       "    </tr>\n",
       "    <tr>\n",
       "      <td>4</td>\n",
       "      <td>1940</td>\n",
       "      <td>70.0</td>\n",
       "      <td>2013-01-25</td>\n",
       "    </tr>\n",
       "  </tbody>\n",
       "</table>\n",
       "</div>"
      ],
      "text/plain": [
       "      0      1           2\n",
       "0   760   25.0  2009-11-06\n",
       "1   860   50.0  2012-09-28\n",
       "2  1200  100.0  2005-10-25\n",
       "3  1420   50.0  2009-07-09\n",
       "4  1940   70.0  2013-01-25"
      ]
     },
     "execution_count": 4,
     "metadata": {},
     "output_type": "execute_result"
    }
   ],
   "source": [
    "df.head()"
   ]
  },
  {
   "cell_type": "code",
   "execution_count": 5,
   "metadata": {
    "colab": {},
    "colab_type": "code",
    "id": "0_ceNtGaneCp"
   },
   "outputs": [],
   "source": [
    "df.rename({0:'Customer-ID',1:'Amount',2:'Date'},axis=1,inplace=True)"
   ]
  },
  {
   "cell_type": "code",
   "execution_count": 6,
   "metadata": {
    "colab": {},
    "colab_type": "code",
    "id": "80cZlBJYneCr",
    "outputId": "83e3b8a2-56c7-4339-e769-22681e56f28c"
   },
   "outputs": [
    {
     "data": {
      "text/html": [
       "<div>\n",
       "<style scoped>\n",
       "    .dataframe tbody tr th:only-of-type {\n",
       "        vertical-align: middle;\n",
       "    }\n",
       "\n",
       "    .dataframe tbody tr th {\n",
       "        vertical-align: top;\n",
       "    }\n",
       "\n",
       "    .dataframe thead th {\n",
       "        text-align: right;\n",
       "    }\n",
       "</style>\n",
       "<table border=\"1\" class=\"dataframe\">\n",
       "  <thead>\n",
       "    <tr style=\"text-align: right;\">\n",
       "      <th></th>\n",
       "      <th>Customer-ID</th>\n",
       "      <th>Amount</th>\n",
       "      <th>Date</th>\n",
       "    </tr>\n",
       "  </thead>\n",
       "  <tbody>\n",
       "    <tr>\n",
       "      <td>0</td>\n",
       "      <td>760</td>\n",
       "      <td>25.0</td>\n",
       "      <td>2009-11-06</td>\n",
       "    </tr>\n",
       "    <tr>\n",
       "      <td>1</td>\n",
       "      <td>860</td>\n",
       "      <td>50.0</td>\n",
       "      <td>2012-09-28</td>\n",
       "    </tr>\n",
       "    <tr>\n",
       "      <td>2</td>\n",
       "      <td>1200</td>\n",
       "      <td>100.0</td>\n",
       "      <td>2005-10-25</td>\n",
       "    </tr>\n",
       "    <tr>\n",
       "      <td>3</td>\n",
       "      <td>1420</td>\n",
       "      <td>50.0</td>\n",
       "      <td>2009-07-09</td>\n",
       "    </tr>\n",
       "    <tr>\n",
       "      <td>4</td>\n",
       "      <td>1940</td>\n",
       "      <td>70.0</td>\n",
       "      <td>2013-01-25</td>\n",
       "    </tr>\n",
       "  </tbody>\n",
       "</table>\n",
       "</div>"
      ],
      "text/plain": [
       "   Customer-ID  Amount        Date\n",
       "0          760    25.0  2009-11-06\n",
       "1          860    50.0  2012-09-28\n",
       "2         1200   100.0  2005-10-25\n",
       "3         1420    50.0  2009-07-09\n",
       "4         1940    70.0  2013-01-25"
      ]
     },
     "execution_count": 6,
     "metadata": {},
     "output_type": "execute_result"
    }
   ],
   "source": [
    "df.head()"
   ]
  },
  {
   "cell_type": "code",
   "execution_count": 7,
   "metadata": {
    "colab": {},
    "colab_type": "code",
    "id": "OvG_6YTIneCv",
    "outputId": "a513efc1-1d4c-4fcb-b123-64b902630bfc"
   },
   "outputs": [
    {
     "data": {
      "text/html": [
       "<div>\n",
       "<style scoped>\n",
       "    .dataframe tbody tr th:only-of-type {\n",
       "        vertical-align: middle;\n",
       "    }\n",
       "\n",
       "    .dataframe tbody tr th {\n",
       "        vertical-align: top;\n",
       "    }\n",
       "\n",
       "    .dataframe thead th {\n",
       "        text-align: right;\n",
       "    }\n",
       "</style>\n",
       "<table border=\"1\" class=\"dataframe\">\n",
       "  <thead>\n",
       "    <tr style=\"text-align: right;\">\n",
       "      <th></th>\n",
       "      <th>Customer-ID</th>\n",
       "      <th>Amount</th>\n",
       "    </tr>\n",
       "  </thead>\n",
       "  <tbody>\n",
       "    <tr>\n",
       "      <td>count</td>\n",
       "      <td>51243.000000</td>\n",
       "      <td>51243.000000</td>\n",
       "    </tr>\n",
       "    <tr>\n",
       "      <td>mean</td>\n",
       "      <td>108934.547938</td>\n",
       "      <td>62.337195</td>\n",
       "    </tr>\n",
       "    <tr>\n",
       "      <td>std</td>\n",
       "      <td>67650.610139</td>\n",
       "      <td>156.606801</td>\n",
       "    </tr>\n",
       "    <tr>\n",
       "      <td>min</td>\n",
       "      <td>10.000000</td>\n",
       "      <td>5.000000</td>\n",
       "    </tr>\n",
       "    <tr>\n",
       "      <td>25%</td>\n",
       "      <td>57720.000000</td>\n",
       "      <td>25.000000</td>\n",
       "    </tr>\n",
       "    <tr>\n",
       "      <td>50%</td>\n",
       "      <td>102440.000000</td>\n",
       "      <td>30.000000</td>\n",
       "    </tr>\n",
       "    <tr>\n",
       "      <td>75%</td>\n",
       "      <td>160525.000000</td>\n",
       "      <td>60.000000</td>\n",
       "    </tr>\n",
       "    <tr>\n",
       "      <td>max</td>\n",
       "      <td>264200.000000</td>\n",
       "      <td>4500.000000</td>\n",
       "    </tr>\n",
       "  </tbody>\n",
       "</table>\n",
       "</div>"
      ],
      "text/plain": [
       "         Customer-ID        Amount\n",
       "count   51243.000000  51243.000000\n",
       "mean   108934.547938     62.337195\n",
       "std     67650.610139    156.606801\n",
       "min        10.000000      5.000000\n",
       "25%     57720.000000     25.000000\n",
       "50%    102440.000000     30.000000\n",
       "75%    160525.000000     60.000000\n",
       "max    264200.000000   4500.000000"
      ]
     },
     "execution_count": 7,
     "metadata": {},
     "output_type": "execute_result"
    }
   ],
   "source": [
    "df.describe()"
   ]
  },
  {
   "cell_type": "code",
   "execution_count": 8,
   "metadata": {
    "colab": {},
    "colab_type": "code",
    "id": "uQnQA1nWneCx",
    "outputId": "9cccac6a-fb03-417c-f6f3-7864e28e37e2"
   },
   "outputs": [
    {
     "data": {
      "text/plain": [
       "'2015-12-31'"
      ]
     },
     "execution_count": 8,
     "metadata": {},
     "output_type": "execute_result"
    }
   ],
   "source": [
    "df.Date.max()"
   ]
  },
  {
   "cell_type": "code",
   "execution_count": 9,
   "metadata": {
    "colab": {},
    "colab_type": "code",
    "id": "JUkouNcWneC1"
   },
   "outputs": [],
   "source": [
    "df['Date']=pd.to_datetime(df['Date'])"
   ]
  },
  {
   "cell_type": "code",
   "execution_count": 10,
   "metadata": {
    "colab": {},
    "colab_type": "code",
    "id": "O4YcL0R8neC3",
    "outputId": "c4578790-a62c-457f-986d-5102634f5e16"
   },
   "outputs": [
    {
     "name": "stdout",
     "output_type": "stream",
     "text": [
      "<class 'pandas.core.frame.DataFrame'>\n",
      "RangeIndex: 51243 entries, 0 to 51242\n",
      "Data columns (total 3 columns):\n",
      "Customer-ID    51243 non-null int64\n",
      "Amount         51243 non-null float64\n",
      "Date           51243 non-null datetime64[ns]\n",
      "dtypes: datetime64[ns](1), float64(1), int64(1)\n",
      "memory usage: 1.2 MB\n"
     ]
    }
   ],
   "source": [
    "df.info()"
   ]
  },
  {
   "cell_type": "code",
   "execution_count": 11,
   "metadata": {
    "colab": {},
    "colab_type": "code",
    "id": "P9R2R4ZxneC6",
    "outputId": "ad636b16-a56a-4d97-f16a-b7cd09ed3319"
   },
   "outputs": [
    {
     "data": {
      "text/html": [
       "<div>\n",
       "<style scoped>\n",
       "    .dataframe tbody tr th:only-of-type {\n",
       "        vertical-align: middle;\n",
       "    }\n",
       "\n",
       "    .dataframe tbody tr th {\n",
       "        vertical-align: top;\n",
       "    }\n",
       "\n",
       "    .dataframe thead th {\n",
       "        text-align: right;\n",
       "    }\n",
       "</style>\n",
       "<table border=\"1\" class=\"dataframe\">\n",
       "  <thead>\n",
       "    <tr style=\"text-align: right;\">\n",
       "      <th></th>\n",
       "      <th>Customer-ID</th>\n",
       "      <th>Amount</th>\n",
       "      <th>Date</th>\n",
       "    </tr>\n",
       "  </thead>\n",
       "  <tbody>\n",
       "    <tr>\n",
       "      <td>0</td>\n",
       "      <td>760</td>\n",
       "      <td>25.0</td>\n",
       "      <td>2009-11-06</td>\n",
       "    </tr>\n",
       "    <tr>\n",
       "      <td>1</td>\n",
       "      <td>860</td>\n",
       "      <td>50.0</td>\n",
       "      <td>2012-09-28</td>\n",
       "    </tr>\n",
       "    <tr>\n",
       "      <td>2</td>\n",
       "      <td>1200</td>\n",
       "      <td>100.0</td>\n",
       "      <td>2005-10-25</td>\n",
       "    </tr>\n",
       "    <tr>\n",
       "      <td>3</td>\n",
       "      <td>1420</td>\n",
       "      <td>50.0</td>\n",
       "      <td>2009-07-09</td>\n",
       "    </tr>\n",
       "    <tr>\n",
       "      <td>4</td>\n",
       "      <td>1940</td>\n",
       "      <td>70.0</td>\n",
       "      <td>2013-01-25</td>\n",
       "    </tr>\n",
       "  </tbody>\n",
       "</table>\n",
       "</div>"
      ],
      "text/plain": [
       "   Customer-ID  Amount       Date\n",
       "0          760    25.0 2009-11-06\n",
       "1          860    50.0 2012-09-28\n",
       "2         1200   100.0 2005-10-25\n",
       "3         1420    50.0 2009-07-09\n",
       "4         1940    70.0 2013-01-25"
      ]
     },
     "execution_count": 11,
     "metadata": {},
     "output_type": "execute_result"
    }
   ],
   "source": [
    "df.head()"
   ]
  },
  {
   "cell_type": "code",
   "execution_count": 12,
   "metadata": {
    "colab": {},
    "colab_type": "code",
    "id": "sqJkr8NkneC9",
    "outputId": "a3dde854-aaec-4a60-b666-d93f8950b4de"
   },
   "outputs": [
    {
     "data": {
      "text/plain": [
       "(51243, 3)"
      ]
     },
     "execution_count": 12,
     "metadata": {},
     "output_type": "execute_result"
    }
   ],
   "source": [
    "df.shape"
   ]
  },
  {
   "cell_type": "code",
   "execution_count": 13,
   "metadata": {
    "colab": {},
    "colab_type": "code",
    "id": "aMG4MZozneDA"
   },
   "outputs": [],
   "source": [
    "df['year']=df.Date.transform(lambda x: x.year)"
   ]
  },
  {
   "cell_type": "code",
   "execution_count": 14,
   "metadata": {
    "colab": {},
    "colab_type": "code",
    "id": "MsjpExBCneDD",
    "outputId": "6d9f9fa3-9dd5-4b5b-c49d-aa359fe68a23"
   },
   "outputs": [
    {
     "data": {
      "text/html": [
       "<div>\n",
       "<style scoped>\n",
       "    .dataframe tbody tr th:only-of-type {\n",
       "        vertical-align: middle;\n",
       "    }\n",
       "\n",
       "    .dataframe tbody tr th {\n",
       "        vertical-align: top;\n",
       "    }\n",
       "\n",
       "    .dataframe thead th {\n",
       "        text-align: right;\n",
       "    }\n",
       "</style>\n",
       "<table border=\"1\" class=\"dataframe\">\n",
       "  <thead>\n",
       "    <tr style=\"text-align: right;\">\n",
       "      <th></th>\n",
       "      <th>Customer-ID</th>\n",
       "      <th>Amount</th>\n",
       "      <th>Date</th>\n",
       "      <th>year</th>\n",
       "    </tr>\n",
       "  </thead>\n",
       "  <tbody>\n",
       "    <tr>\n",
       "      <td>0</td>\n",
       "      <td>760</td>\n",
       "      <td>25.0</td>\n",
       "      <td>2009-11-06</td>\n",
       "      <td>2009</td>\n",
       "    </tr>\n",
       "    <tr>\n",
       "      <td>1</td>\n",
       "      <td>860</td>\n",
       "      <td>50.0</td>\n",
       "      <td>2012-09-28</td>\n",
       "      <td>2012</td>\n",
       "    </tr>\n",
       "    <tr>\n",
       "      <td>2</td>\n",
       "      <td>1200</td>\n",
       "      <td>100.0</td>\n",
       "      <td>2005-10-25</td>\n",
       "      <td>2005</td>\n",
       "    </tr>\n",
       "    <tr>\n",
       "      <td>3</td>\n",
       "      <td>1420</td>\n",
       "      <td>50.0</td>\n",
       "      <td>2009-07-09</td>\n",
       "      <td>2009</td>\n",
       "    </tr>\n",
       "    <tr>\n",
       "      <td>4</td>\n",
       "      <td>1940</td>\n",
       "      <td>70.0</td>\n",
       "      <td>2013-01-25</td>\n",
       "      <td>2013</td>\n",
       "    </tr>\n",
       "  </tbody>\n",
       "</table>\n",
       "</div>"
      ],
      "text/plain": [
       "   Customer-ID  Amount       Date  year\n",
       "0          760    25.0 2009-11-06  2009\n",
       "1          860    50.0 2012-09-28  2012\n",
       "2         1200   100.0 2005-10-25  2005\n",
       "3         1420    50.0 2009-07-09  2009\n",
       "4         1940    70.0 2013-01-25  2013"
      ]
     },
     "execution_count": 14,
     "metadata": {},
     "output_type": "execute_result"
    }
   ],
   "source": [
    "df.head()"
   ]
  },
  {
   "cell_type": "code",
   "execution_count": 15,
   "metadata": {
    "colab": {},
    "colab_type": "code",
    "id": "mzIh-8FwneDG",
    "outputId": "32d945b3-a42f-45cf-c8e9-eedbad81343f"
   },
   "outputs": [
    {
     "name": "stdout",
     "output_type": "stream",
     "text": [
      "<class 'pandas.core.frame.DataFrame'>\n",
      "RangeIndex: 51243 entries, 0 to 51242\n",
      "Data columns (total 4 columns):\n",
      "Customer-ID    51243 non-null int64\n",
      "Amount         51243 non-null float64\n",
      "Date           51243 non-null datetime64[ns]\n",
      "year           51243 non-null int64\n",
      "dtypes: datetime64[ns](1), float64(1), int64(2)\n",
      "memory usage: 1.6 MB\n"
     ]
    }
   ],
   "source": [
    "df.info()"
   ]
  },
  {
   "cell_type": "code",
   "execution_count": 16,
   "metadata": {
    "colab": {},
    "colab_type": "code",
    "id": "zdvHr_ctneDI",
    "outputId": "5190fb13-6dfe-40e4-ff1a-1b0c293b15ab"
   },
   "outputs": [
    {
     "data": {
      "text/html": [
       "<div>\n",
       "<style scoped>\n",
       "    .dataframe tbody tr th:only-of-type {\n",
       "        vertical-align: middle;\n",
       "    }\n",
       "\n",
       "    .dataframe tbody tr th {\n",
       "        vertical-align: top;\n",
       "    }\n",
       "\n",
       "    .dataframe thead th {\n",
       "        text-align: right;\n",
       "    }\n",
       "</style>\n",
       "<table border=\"1\" class=\"dataframe\">\n",
       "  <thead>\n",
       "    <tr style=\"text-align: right;\">\n",
       "      <th></th>\n",
       "      <th>Customer-ID</th>\n",
       "      <th>Amount</th>\n",
       "      <th>year</th>\n",
       "    </tr>\n",
       "  </thead>\n",
       "  <tbody>\n",
       "    <tr>\n",
       "      <td>count</td>\n",
       "      <td>51243.000000</td>\n",
       "      <td>51243.000000</td>\n",
       "      <td>51243.000000</td>\n",
       "    </tr>\n",
       "    <tr>\n",
       "      <td>mean</td>\n",
       "      <td>108934.547938</td>\n",
       "      <td>62.337195</td>\n",
       "      <td>2010.869699</td>\n",
       "    </tr>\n",
       "    <tr>\n",
       "      <td>std</td>\n",
       "      <td>67650.610139</td>\n",
       "      <td>156.606801</td>\n",
       "      <td>2.883072</td>\n",
       "    </tr>\n",
       "    <tr>\n",
       "      <td>min</td>\n",
       "      <td>10.000000</td>\n",
       "      <td>5.000000</td>\n",
       "      <td>2005.000000</td>\n",
       "    </tr>\n",
       "    <tr>\n",
       "      <td>25%</td>\n",
       "      <td>57720.000000</td>\n",
       "      <td>25.000000</td>\n",
       "      <td>2009.000000</td>\n",
       "    </tr>\n",
       "    <tr>\n",
       "      <td>50%</td>\n",
       "      <td>102440.000000</td>\n",
       "      <td>30.000000</td>\n",
       "      <td>2011.000000</td>\n",
       "    </tr>\n",
       "    <tr>\n",
       "      <td>75%</td>\n",
       "      <td>160525.000000</td>\n",
       "      <td>60.000000</td>\n",
       "      <td>2013.000000</td>\n",
       "    </tr>\n",
       "    <tr>\n",
       "      <td>max</td>\n",
       "      <td>264200.000000</td>\n",
       "      <td>4500.000000</td>\n",
       "      <td>2015.000000</td>\n",
       "    </tr>\n",
       "  </tbody>\n",
       "</table>\n",
       "</div>"
      ],
      "text/plain": [
       "         Customer-ID        Amount          year\n",
       "count   51243.000000  51243.000000  51243.000000\n",
       "mean   108934.547938     62.337195   2010.869699\n",
       "std     67650.610139    156.606801      2.883072\n",
       "min        10.000000      5.000000   2005.000000\n",
       "25%     57720.000000     25.000000   2009.000000\n",
       "50%    102440.000000     30.000000   2011.000000\n",
       "75%    160525.000000     60.000000   2013.000000\n",
       "max    264200.000000   4500.000000   2015.000000"
      ]
     },
     "execution_count": 16,
     "metadata": {},
     "output_type": "execute_result"
    }
   ],
   "source": [
    "df.describe()"
   ]
  },
  {
   "cell_type": "markdown",
   "metadata": {
    "colab_type": "text",
    "id": "gGyJF8G8neDL"
   },
   "source": [
    "## EDA"
   ]
  },
  {
   "cell_type": "code",
   "execution_count": 17,
   "metadata": {
    "colab": {},
    "colab_type": "code",
    "id": "0G2cDmkDneDL",
    "outputId": "40411b84-79f2-4146-e49e-94109ad3ce01"
   },
   "outputs": [
    {
     "data": {
      "text/plain": [
       "2015    6197\n",
       "2012    5960\n",
       "2013    5912\n",
       "2014    5739\n",
       "2009    5054\n",
       "2010    4939\n",
       "2011    4785\n",
       "2007    4674\n",
       "2008    4331\n",
       "2006    2182\n",
       "2005    1470\n",
       "Name: year, dtype: int64"
      ]
     },
     "execution_count": 17,
     "metadata": {},
     "output_type": "execute_result"
    }
   ],
   "source": [
    "df.year.value_counts()"
   ]
  },
  {
   "cell_type": "code",
   "execution_count": 18,
   "metadata": {
    "colab": {},
    "colab_type": "code",
    "id": "OS8Nr2g7neDO",
    "outputId": "6577d141-146e-4eb1-9430-09495113c988"
   },
   "outputs": [
    {
     "data": {
      "text/plain": [
       "Text(0.5, 1.0, 'YearWise Customer Count')"
      ]
     },
     "execution_count": 18,
     "metadata": {},
     "output_type": "execute_result"
    },
    {
     "data": {
      "image/png": "[encoded data removed]",
      "text/plain": [
       "<Figure size 720x360 with 1 Axes>"
      ]
     },
     "metadata": {
      "needs_background": "light"
     },
     "output_type": "display_data"
    }
   ],
   "source": [
    "plt.figure(figsize=(10,5))\n",
    "sns.countplot(df['year'])\n",
    "plt.title(\"YearWise Customer Count\", fontdict={'fontsize':15})"
   ]
  },
  {
   "cell_type": "code",
   "execution_count": null,
   "metadata": {
    "colab": {},
    "colab_type": "code",
    "id": "ALPJIS07neDQ"
   },
   "outputs": [],
   "source": [
    "avg_amount = df.groupby('year').Amount.apply(lambda x: x.mean())"
   ]
  },
  {
   "cell_type": "code",
   "execution_count": null,
   "metadata": {
    "colab": {},
    "colab_type": "code",
    "id": "kw_3iXfCneDT",
    "outputId": "a599b794-7825-4683-ec7a-b546fb3edcd3"
   },
   "outputs": [
    {
     "data": {
      "text/plain": [
       "year\n",
       "2005    55.826122\n",
       "2006    52.250454\n",
       "2007    49.264014\n",
       "2008    53.071780\n",
       "2009    50.745253\n",
       "2010    58.740012\n",
       "2011    63.519300\n",
       "2012    62.913312\n",
       "2013    67.931357\n",
       "2014    75.390347\n",
       "2015    77.197697\n",
       "Name: Amount, dtype: float64"
      ]
     },
     "execution_count": 623,
     "metadata": {
      "tags": []
     },
     "output_type": "execute_result"
    }
   ],
   "source": [
    "avg_amount"
   ]
  },
  {
   "cell_type": "code",
   "execution_count": null,
   "metadata": {
    "colab": {},
    "colab_type": "code",
    "id": "JZyAyQ-LneDW",
    "outputId": "ad62e212-7756-41e8-b95f-661a7b95dfb3"
   },
   "outputs": [
    {
     "data": {
      "text/plain": [
       "Text(0.5, 1.0, 'YearWise Average Amount')"
      ]
     },
     "execution_count": 624,
     "metadata": {
      "tags": []
     },
     "output_type": "execute_result"
    },
    {
     "data": {
      "image/png": "[encoded data removed]",
      "text/plain": [
       "<Figure size 720x360 with 1 Axes>"
      ]
     },
     "metadata": {
      "needs_background": "light",
      "tags": []
     },
     "output_type": "display_data"
    }
   ],
   "source": [
    "plt.figure(figsize=(10,5))\n",
    "sns.barplot(x=avg_amount.index, y=avg_amount)\n",
    "plt.title(\"YearWise Average Amount\", fontdict={'fontsize':15})"
   ]
  },
  {
   "cell_type": "markdown",
   "metadata": {
    "colab_type": "text",
    "id": "YrnyZwuVneDY"
   },
   "source": [
    "## Bill Data to Customer Data"
   ]
  },
  {
   "cell_type": "code",
   "execution_count": null,
   "metadata": {
    "colab": {},
    "colab_type": "code",
    "id": "0RvyHGo6neDZ"
   },
   "outputs": [],
   "source": [
    "time = pd.to_datetime('2016-01-01', format='%Y-%m-%d')\n",
    "df['days_since']= df.Date.apply(lambda x:time-x)"
   ]
  },
  {
   "cell_type": "code",
   "execution_count": null,
   "metadata": {
    "colab": {},
    "colab_type": "code",
    "id": "Ug-N3QQbneDd",
    "outputId": "e1ed0b5d-5f6e-49cb-b504-651990ff10f7"
   },
   "outputs": [
    {
     "data": {
      "text/html": [
       "<div>\n",
       "<style scoped>\n",
       "    .dataframe tbody tr th:only-of-type {\n",
       "        vertical-align: middle;\n",
       "    }\n",
       "\n",
       "    .dataframe tbody tr th {\n",
       "        vertical-align: top;\n",
       "    }\n",
       "\n",
       "    .dataframe thead th {\n",
       "        text-align: right;\n",
       "    }\n",
       "</style>\n",
       "<table border=\"1\" class=\"dataframe\">\n",
       "  <thead>\n",
       "    <tr style=\"text-align: right;\">\n",
       "      <th></th>\n",
       "      <th>Customer-ID</th>\n",
       "      <th>Amount</th>\n",
       "      <th>Date</th>\n",
       "      <th>year</th>\n",
       "      <th>days_since</th>\n",
       "    </tr>\n",
       "  </thead>\n",
       "  <tbody>\n",
       "    <tr>\n",
       "      <td>0</td>\n",
       "      <td>760</td>\n",
       "      <td>25.0</td>\n",
       "      <td>2009-11-06</td>\n",
       "      <td>2009</td>\n",
       "      <td>2247 days</td>\n",
       "    </tr>\n",
       "    <tr>\n",
       "      <td>1</td>\n",
       "      <td>860</td>\n",
       "      <td>50.0</td>\n",
       "      <td>2012-09-28</td>\n",
       "      <td>2012</td>\n",
       "      <td>1190 days</td>\n",
       "    </tr>\n",
       "    <tr>\n",
       "      <td>2</td>\n",
       "      <td>1200</td>\n",
       "      <td>100.0</td>\n",
       "      <td>2005-10-25</td>\n",
       "      <td>2005</td>\n",
       "      <td>3720 days</td>\n",
       "    </tr>\n",
       "    <tr>\n",
       "      <td>3</td>\n",
       "      <td>1420</td>\n",
       "      <td>50.0</td>\n",
       "      <td>2009-07-09</td>\n",
       "      <td>2009</td>\n",
       "      <td>2367 days</td>\n",
       "    </tr>\n",
       "    <tr>\n",
       "      <td>4</td>\n",
       "      <td>1940</td>\n",
       "      <td>70.0</td>\n",
       "      <td>2013-01-25</td>\n",
       "      <td>2013</td>\n",
       "      <td>1071 days</td>\n",
       "    </tr>\n",
       "  </tbody>\n",
       "</table>\n",
       "</div>"
      ],
      "text/plain": [
       "   Customer-ID  Amount       Date  year days_since\n",
       "0          760    25.0 2009-11-06  2009  2247 days\n",
       "1          860    50.0 2012-09-28  2012  1190 days\n",
       "2         1200   100.0 2005-10-25  2005  3720 days\n",
       "3         1420    50.0 2009-07-09  2009  2367 days\n",
       "4         1940    70.0 2013-01-25  2013  1071 days"
      ]
     },
     "execution_count": 626,
     "metadata": {
      "tags": []
     },
     "output_type": "execute_result"
    }
   ],
   "source": [
    "df.head()"
   ]
  },
  {
   "cell_type": "code",
   "execution_count": null,
   "metadata": {
    "colab": {},
    "colab_type": "code",
    "id": "sn3Bh-JgneDh",
    "outputId": "4842f9d7-51da-4ffa-fda0-9b1a9372f27f"
   },
   "outputs": [
    {
     "data": {
      "text/html": [
       "<div>\n",
       "<style scoped>\n",
       "    .dataframe tbody tr th:only-of-type {\n",
       "        vertical-align: middle;\n",
       "    }\n",
       "\n",
       "    .dataframe tbody tr th {\n",
       "        vertical-align: top;\n",
       "    }\n",
       "\n",
       "    .dataframe thead th {\n",
       "        text-align: right;\n",
       "    }\n",
       "</style>\n",
       "<table border=\"1\" class=\"dataframe\">\n",
       "  <thead>\n",
       "    <tr style=\"text-align: right;\">\n",
       "      <th></th>\n",
       "      <th>Customer-ID</th>\n",
       "      <th>Amount</th>\n",
       "      <th>year</th>\n",
       "      <th>days_since</th>\n",
       "    </tr>\n",
       "  </thead>\n",
       "  <tbody>\n",
       "    <tr>\n",
       "      <td>count</td>\n",
       "      <td>51243.000000</td>\n",
       "      <td>51243.000000</td>\n",
       "      <td>51243.000000</td>\n",
       "      <td>51243</td>\n",
       "    </tr>\n",
       "    <tr>\n",
       "      <td>mean</td>\n",
       "      <td>108934.547938</td>\n",
       "      <td>62.337195</td>\n",
       "      <td>2010.869699</td>\n",
       "      <td>1631 days 22:32:36.278905</td>\n",
       "    </tr>\n",
       "    <tr>\n",
       "      <td>std</td>\n",
       "      <td>67650.610139</td>\n",
       "      <td>156.606801</td>\n",
       "      <td>2.883072</td>\n",
       "      <td>1061 days 01:50:43.241863</td>\n",
       "    </tr>\n",
       "    <tr>\n",
       "      <td>min</td>\n",
       "      <td>10.000000</td>\n",
       "      <td>5.000000</td>\n",
       "      <td>2005.000000</td>\n",
       "      <td>1 days 00:00:00</td>\n",
       "    </tr>\n",
       "    <tr>\n",
       "      <td>25%</td>\n",
       "      <td>57720.000000</td>\n",
       "      <td>25.000000</td>\n",
       "      <td>2009.000000</td>\n",
       "      <td>733 days 00:00:00</td>\n",
       "    </tr>\n",
       "    <tr>\n",
       "      <td>50%</td>\n",
       "      <td>102440.000000</td>\n",
       "      <td>30.000000</td>\n",
       "      <td>2011.000000</td>\n",
       "      <td>1500 days 00:00:00</td>\n",
       "    </tr>\n",
       "    <tr>\n",
       "      <td>75%</td>\n",
       "      <td>160525.000000</td>\n",
       "      <td>60.000000</td>\n",
       "      <td>2013.000000</td>\n",
       "      <td>2540 days 00:00:00</td>\n",
       "    </tr>\n",
       "    <tr>\n",
       "      <td>max</td>\n",
       "      <td>264200.000000</td>\n",
       "      <td>4500.000000</td>\n",
       "      <td>2015.000000</td>\n",
       "      <td>4016 days 00:00:00</td>\n",
       "    </tr>\n",
       "  </tbody>\n",
       "</table>\n",
       "</div>"
      ],
      "text/plain": [
       "         Customer-ID        Amount          year                 days_since\n",
       "count   51243.000000  51243.000000  51243.000000                      51243\n",
       "mean   108934.547938     62.337195   2010.869699  1631 days 22:32:36.278905\n",
       "std     67650.610139    156.606801      2.883072  1061 days 01:50:43.241863\n",
       "min        10.000000      5.000000   2005.000000            1 days 00:00:00\n",
       "25%     57720.000000     25.000000   2009.000000          733 days 00:00:00\n",
       "50%    102440.000000     30.000000   2011.000000         1500 days 00:00:00\n",
       "75%    160525.000000     60.000000   2013.000000         2540 days 00:00:00\n",
       "max    264200.000000   4500.000000   2015.000000         4016 days 00:00:00"
      ]
     },
     "execution_count": 627,
     "metadata": {
      "tags": []
     },
     "output_type": "execute_result"
    }
   ],
   "source": [
    "df.describe()"
   ]
  },
  {
   "cell_type": "code",
   "execution_count": null,
   "metadata": {
    "colab": {},
    "colab_type": "code",
    "id": "Mujn2c3tneDl"
   },
   "outputs": [],
   "source": [
    "customer=pd.DataFrame()\n",
    "customer['recency'] = df.groupby('Customer-ID').days_since.apply(lambda x:x.min())\n",
    "customer['frequency'] = df.groupby('Customer-ID')['Customer-ID'].apply(lambda x:x.count())\n",
    "customer['monetary'] = df.groupby('Customer-ID').Amount.apply(lambda x:x.mean())"
   ]
  },
  {
   "cell_type": "code",
   "execution_count": null,
   "metadata": {
    "colab": {},
    "colab_type": "code",
    "id": "Lfi2bWlOneDq"
   },
   "outputs": [],
   "source": [
    "customer.reset_index(inplace=True)"
   ]
  },
  {
   "cell_type": "code",
   "execution_count": null,
   "metadata": {
    "colab": {},
    "colab_type": "code",
    "id": "qt8KNu8NneDw",
    "outputId": "b085128e-c9d9-4eed-b565-32e06a161d7d"
   },
   "outputs": [
    {
     "data": {
      "text/html": [
       "<div>\n",
       "<style scoped>\n",
       "    .dataframe tbody tr th:only-of-type {\n",
       "        vertical-align: middle;\n",
       "    }\n",
       "\n",
       "    .dataframe tbody tr th {\n",
       "        vertical-align: top;\n",
       "    }\n",
       "\n",
       "    .dataframe thead th {\n",
       "        text-align: right;\n",
       "    }\n",
       "</style>\n",
       "<table border=\"1\" class=\"dataframe\">\n",
       "  <thead>\n",
       "    <tr style=\"text-align: right;\">\n",
       "      <th></th>\n",
       "      <th>Customer-ID</th>\n",
       "      <th>recency</th>\n",
       "      <th>frequency</th>\n",
       "      <th>monetary</th>\n",
       "    </tr>\n",
       "  </thead>\n",
       "  <tbody>\n",
       "    <tr>\n",
       "      <td>0</td>\n",
       "      <td>10</td>\n",
       "      <td>3829 days</td>\n",
       "      <td>1</td>\n",
       "      <td>30.000000</td>\n",
       "    </tr>\n",
       "    <tr>\n",
       "      <td>1</td>\n",
       "      <td>80</td>\n",
       "      <td>343 days</td>\n",
       "      <td>7</td>\n",
       "      <td>71.428571</td>\n",
       "    </tr>\n",
       "    <tr>\n",
       "      <td>2</td>\n",
       "      <td>90</td>\n",
       "      <td>758 days</td>\n",
       "      <td>10</td>\n",
       "      <td>115.800000</td>\n",
       "    </tr>\n",
       "    <tr>\n",
       "      <td>3</td>\n",
       "      <td>120</td>\n",
       "      <td>1401 days</td>\n",
       "      <td>1</td>\n",
       "      <td>20.000000</td>\n",
       "    </tr>\n",
       "    <tr>\n",
       "      <td>4</td>\n",
       "      <td>130</td>\n",
       "      <td>2970 days</td>\n",
       "      <td>2</td>\n",
       "      <td>50.000000</td>\n",
       "    </tr>\n",
       "  </tbody>\n",
       "</table>\n",
       "</div>"
      ],
      "text/plain": [
       "   Customer-ID   recency  frequency    monetary\n",
       "0           10 3829 days          1   30.000000\n",
       "1           80  343 days          7   71.428571\n",
       "2           90  758 days         10  115.800000\n",
       "3          120 1401 days          1   20.000000\n",
       "4          130 2970 days          2   50.000000"
      ]
     },
     "execution_count": 630,
     "metadata": {
      "tags": []
     },
     "output_type": "execute_result"
    }
   ],
   "source": [
    "customer.head()"
   ]
  },
  {
   "cell_type": "code",
   "execution_count": null,
   "metadata": {
    "colab": {},
    "colab_type": "code",
    "id": "jHt_UGcaneD0",
    "outputId": "70cab343-6fad-4a43-d6fa-836da7d3a1dd"
   },
   "outputs": [
    {
     "data": {
      "text/html": [
       "<div>\n",
       "<style scoped>\n",
       "    .dataframe tbody tr th:only-of-type {\n",
       "        vertical-align: middle;\n",
       "    }\n",
       "\n",
       "    .dataframe tbody tr th {\n",
       "        vertical-align: top;\n",
       "    }\n",
       "\n",
       "    .dataframe thead th {\n",
       "        text-align: right;\n",
       "    }\n",
       "</style>\n",
       "<table border=\"1\" class=\"dataframe\">\n",
       "  <thead>\n",
       "    <tr style=\"text-align: right;\">\n",
       "      <th></th>\n",
       "      <th>Customer-ID</th>\n",
       "      <th>recency</th>\n",
       "      <th>frequency</th>\n",
       "      <th>monetary</th>\n",
       "    </tr>\n",
       "  </thead>\n",
       "  <tbody>\n",
       "    <tr>\n",
       "      <td>count</td>\n",
       "      <td>18417.000000</td>\n",
       "      <td>18417</td>\n",
       "      <td>18417.000000</td>\n",
       "      <td>18417.000000</td>\n",
       "    </tr>\n",
       "    <tr>\n",
       "      <td>mean</td>\n",
       "      <td>137573.510887</td>\n",
       "      <td>1253 days 00:54:34.539824</td>\n",
       "      <td>2.782375</td>\n",
       "      <td>57.792985</td>\n",
       "    </tr>\n",
       "    <tr>\n",
       "      <td>std</td>\n",
       "      <td>69504.599881</td>\n",
       "      <td>1081 days 10:30:31.826894</td>\n",
       "      <td>2.936888</td>\n",
       "      <td>154.360109</td>\n",
       "    </tr>\n",
       "    <tr>\n",
       "      <td>min</td>\n",
       "      <td>10.000000</td>\n",
       "      <td>1 days 00:00:00</td>\n",
       "      <td>1.000000</td>\n",
       "      <td>5.000000</td>\n",
       "    </tr>\n",
       "    <tr>\n",
       "      <td>25%</td>\n",
       "      <td>81990.000000</td>\n",
       "      <td>244 days 00:00:00</td>\n",
       "      <td>1.000000</td>\n",
       "      <td>21.666667</td>\n",
       "    </tr>\n",
       "    <tr>\n",
       "      <td>50%</td>\n",
       "      <td>136430.000000</td>\n",
       "      <td>1070 days 00:00:00</td>\n",
       "      <td>2.000000</td>\n",
       "      <td>30.000000</td>\n",
       "    </tr>\n",
       "    <tr>\n",
       "      <td>75%</td>\n",
       "      <td>195100.000000</td>\n",
       "      <td>2130 days 00:00:00</td>\n",
       "      <td>3.000000</td>\n",
       "      <td>50.000000</td>\n",
       "    </tr>\n",
       "    <tr>\n",
       "      <td>max</td>\n",
       "      <td>264200.000000</td>\n",
       "      <td>4014 days 00:00:00</td>\n",
       "      <td>45.000000</td>\n",
       "      <td>4500.000000</td>\n",
       "    </tr>\n",
       "  </tbody>\n",
       "</table>\n",
       "</div>"
      ],
      "text/plain": [
       "         Customer-ID                    recency     frequency      monetary\n",
       "count   18417.000000                      18417  18417.000000  18417.000000\n",
       "mean   137573.510887  1253 days 00:54:34.539824      2.782375     57.792985\n",
       "std     69504.599881  1081 days 10:30:31.826894      2.936888    154.360109\n",
       "min        10.000000            1 days 00:00:00      1.000000      5.000000\n",
       "25%     81990.000000          244 days 00:00:00      1.000000     21.666667\n",
       "50%    136430.000000         1070 days 00:00:00      2.000000     30.000000\n",
       "75%    195100.000000         2130 days 00:00:00      3.000000     50.000000\n",
       "max    264200.000000         4014 days 00:00:00     45.000000   4500.000000"
      ]
     },
     "execution_count": 631,
     "metadata": {
      "tags": []
     },
     "output_type": "execute_result"
    }
   ],
   "source": [
    "customer.describe()"
   ]
  },
  {
   "cell_type": "code",
   "execution_count": null,
   "metadata": {
    "colab": {},
    "colab_type": "code",
    "id": "7wWfOA6kneD2"
   },
   "outputs": [],
   "source": [
    "customer['recency']=customer['recency'].astype('timedelta64[D]')"
   ]
  },
  {
   "cell_type": "code",
   "execution_count": null,
   "metadata": {
    "colab": {},
    "colab_type": "code",
    "id": "l29NWbSJneD7",
    "outputId": "f1712365-741c-4eb9-a719-1703719dd86b"
   },
   "outputs": [
    {
     "data": {
      "text/html": [
       "<div>\n",
       "<style scoped>\n",
       "    .dataframe tbody tr th:only-of-type {\n",
       "        vertical-align: middle;\n",
       "    }\n",
       "\n",
       "    .dataframe tbody tr th {\n",
       "        vertical-align: top;\n",
       "    }\n",
       "\n",
       "    .dataframe thead th {\n",
       "        text-align: right;\n",
       "    }\n",
       "</style>\n",
       "<table border=\"1\" class=\"dataframe\">\n",
       "  <thead>\n",
       "    <tr style=\"text-align: right;\">\n",
       "      <th></th>\n",
       "      <th>Customer-ID</th>\n",
       "      <th>recency</th>\n",
       "      <th>frequency</th>\n",
       "      <th>monetary</th>\n",
       "    </tr>\n",
       "  </thead>\n",
       "  <tbody>\n",
       "    <tr>\n",
       "      <td>0</td>\n",
       "      <td>10</td>\n",
       "      <td>3829.0</td>\n",
       "      <td>1</td>\n",
       "      <td>30.000000</td>\n",
       "    </tr>\n",
       "    <tr>\n",
       "      <td>1</td>\n",
       "      <td>80</td>\n",
       "      <td>343.0</td>\n",
       "      <td>7</td>\n",
       "      <td>71.428571</td>\n",
       "    </tr>\n",
       "    <tr>\n",
       "      <td>2</td>\n",
       "      <td>90</td>\n",
       "      <td>758.0</td>\n",
       "      <td>10</td>\n",
       "      <td>115.800000</td>\n",
       "    </tr>\n",
       "    <tr>\n",
       "      <td>3</td>\n",
       "      <td>120</td>\n",
       "      <td>1401.0</td>\n",
       "      <td>1</td>\n",
       "      <td>20.000000</td>\n",
       "    </tr>\n",
       "    <tr>\n",
       "      <td>4</td>\n",
       "      <td>130</td>\n",
       "      <td>2970.0</td>\n",
       "      <td>2</td>\n",
       "      <td>50.000000</td>\n",
       "    </tr>\n",
       "  </tbody>\n",
       "</table>\n",
       "</div>"
      ],
      "text/plain": [
       "   Customer-ID  recency  frequency    monetary\n",
       "0           10   3829.0          1   30.000000\n",
       "1           80    343.0          7   71.428571\n",
       "2           90    758.0         10  115.800000\n",
       "3          120   1401.0          1   20.000000\n",
       "4          130   2970.0          2   50.000000"
      ]
     },
     "execution_count": 633,
     "metadata": {
      "tags": []
     },
     "output_type": "execute_result"
    }
   ],
   "source": [
    "customer.head()"
   ]
  },
  {
   "cell_type": "code",
   "execution_count": null,
   "metadata": {
    "colab": {},
    "colab_type": "code",
    "id": "RAKshFMoneD9",
    "outputId": "4b6f0cb0-f055-4429-f273-93821eeb9808"
   },
   "outputs": [
    {
     "data": {
      "text/plain": [
       "(18417, 4)"
      ]
     },
     "execution_count": 634,
     "metadata": {
      "tags": []
     },
     "output_type": "execute_result"
    }
   ],
   "source": [
    "customer.shape"
   ]
  },
  {
   "cell_type": "code",
   "execution_count": null,
   "metadata": {
    "colab": {},
    "colab_type": "code",
    "id": "UB62P4V7neEA",
    "outputId": "f9690e17-51bb-43b4-a587-e2a3af990d60"
   },
   "outputs": [
    {
     "data": {
      "text/plain": [
       "Text(0.5, 1.0, 'Recency Distribution')"
      ]
     },
     "execution_count": 635,
     "metadata": {
      "tags": []
     },
     "output_type": "execute_result"
    },
    {
     "data": {
      "image/png": "[encoded data removed]",
      "text/plain": [
       "<Figure size 720x360 with 1 Axes>"
      ]
     },
     "metadata": {
      "needs_background": "light",
      "tags": []
     },
     "output_type": "display_data"
    }
   ],
   "source": [
    "plt.figure(figsize=(10,5))\n",
    "sns.distplot(customer['recency'])\n",
    "plt.title(\"Recency Distribution\", fontdict={'fontsize':15})"
   ]
  },
  {
   "cell_type": "code",
   "execution_count": null,
   "metadata": {
    "colab": {},
    "colab_type": "code",
    "id": "bdAe62h4neED",
    "outputId": "137c1110-a038-4b61-ee69-40fcadc71929"
   },
   "outputs": [
    {
     "name": "stdout",
     "output_type": "stream",
     "text": [
      "<class 'pandas.core.frame.DataFrame'>\n",
      "RangeIndex: 18417 entries, 0 to 18416\n",
      "Data columns (total 4 columns):\n",
      "Customer-ID    18417 non-null int64\n",
      "recency        18417 non-null float64\n",
      "frequency      18417 non-null int64\n",
      "monetary       18417 non-null float64\n",
      "dtypes: float64(2), int64(2)\n",
      "memory usage: 575.7 KB\n"
     ]
    }
   ],
   "source": [
    "customer.info()"
   ]
  },
  {
   "cell_type": "code",
   "execution_count": null,
   "metadata": {
    "colab": {},
    "colab_type": "code",
    "id": "4n_G0BO-neEF",
    "outputId": "9e77bd0c-a123-4417-aa9e-084506dfee60"
   },
   "outputs": [
    {
     "data": {
      "text/plain": [
       "Text(0.5, 1.0, 'Frequency Distribution')"
      ]
     },
     "execution_count": 637,
     "metadata": {
      "tags": []
     },
     "output_type": "execute_result"
    },
    {
     "data": {
      "image/png": "[encoded data removed]",
      "text/plain": [
       "<Figure size 720x360 with 1 Axes>"
      ]
     },
     "metadata": {
      "needs_background": "light",
      "tags": []
     },
     "output_type": "display_data"
    }
   ],
   "source": [
    "plt.figure(figsize=(10,5))\n",
    "sns.distplot(customer['frequency'])\n",
    "plt.title(\"Frequency Distribution\", fontdict={'fontsize':15})"
   ]
  },
  {
   "cell_type": "code",
   "execution_count": null,
   "metadata": {
    "colab": {},
    "colab_type": "code",
    "id": "RPf-SeEnneEH",
    "outputId": "df680da9-d83f-4b93-8e5b-e37533e75770"
   },
   "outputs": [
    {
     "data": {
      "text/plain": [
       "Text(0.5, 1.0, 'Monetary Value Distribution')"
      ]
     },
     "execution_count": 638,
     "metadata": {
      "tags": []
     },
     "output_type": "execute_result"
    },
    {
     "data": {
      "image/png": "[encoded data removed]",
      "text/plain": [
       "<Figure size 720x360 with 1 Axes>"
      ]
     },
     "metadata": {
      "needs_background": "light",
      "tags": []
     },
     "output_type": "display_data"
    }
   ],
   "source": [
    "plt.figure(figsize=(10,5))\n",
    "sns.distplot(customer['monetary'])\n",
    "plt.title(\"Monetary Value Distribution\", fontdict={'fontsize':15})"
   ]
  },
  {
   "cell_type": "code",
   "execution_count": null,
   "metadata": {
    "colab": {},
    "colab_type": "code",
    "id": "NOh05JaSneEJ"
   },
   "outputs": [],
   "source": [
    "customer['monetary']=np.log(customer['monetary'])"
   ]
  },
  {
   "cell_type": "code",
   "execution_count": null,
   "metadata": {
    "colab": {},
    "colab_type": "code",
    "id": "bFhczva5neEM",
    "outputId": "838671f8-7463-491f-b02a-4dbf96be2c0b"
   },
   "outputs": [
    {
     "data": {
      "text/plain": [
       "Text(0.5, 1.0, 'Monetary Value Distribution-Normally Distributed')"
      ]
     },
     "execution_count": 640,
     "metadata": {
      "tags": []
     },
     "output_type": "execute_result"
    },
    {
     "data": {
      "image/png": "[encoded data removed]",
      "text/plain": [
       "<Figure size 720x360 with 1 Axes>"
      ]
     },
     "metadata": {
      "needs_background": "light",
      "tags": []
     },
     "output_type": "display_data"
    }
   ],
   "source": [
    "plt.figure(figsize=(10,5))\n",
    "sns.distplot(customer['monetary'])\n",
    "plt.title(\"Monetary Value Distribution-Normally Distributed\", fontdict={'fontsize':15})"
   ]
  },
  {
   "cell_type": "code",
   "execution_count": null,
   "metadata": {
    "colab": {},
    "colab_type": "code",
    "id": "EQNDMXQAneEP",
    "outputId": "eb2af121-c609-42ae-8b2f-8a05dcca3619"
   },
   "outputs": [
    {
     "data": {
      "text/html": [
       "<div>\n",
       "<style scoped>\n",
       "    .dataframe tbody tr th:only-of-type {\n",
       "        vertical-align: middle;\n",
       "    }\n",
       "\n",
       "    .dataframe tbody tr th {\n",
       "        vertical-align: top;\n",
       "    }\n",
       "\n",
       "    .dataframe thead th {\n",
       "        text-align: right;\n",
       "    }\n",
       "</style>\n",
       "<table border=\"1\" class=\"dataframe\">\n",
       "  <thead>\n",
       "    <tr style=\"text-align: right;\">\n",
       "      <th></th>\n",
       "      <th>Customer-ID</th>\n",
       "      <th>recency</th>\n",
       "      <th>frequency</th>\n",
       "      <th>monetary</th>\n",
       "    </tr>\n",
       "  </thead>\n",
       "  <tbody>\n",
       "    <tr>\n",
       "      <td>0</td>\n",
       "      <td>10</td>\n",
       "      <td>3829.0</td>\n",
       "      <td>1</td>\n",
       "      <td>3.401197</td>\n",
       "    </tr>\n",
       "    <tr>\n",
       "      <td>1</td>\n",
       "      <td>80</td>\n",
       "      <td>343.0</td>\n",
       "      <td>7</td>\n",
       "      <td>4.268698</td>\n",
       "    </tr>\n",
       "    <tr>\n",
       "      <td>2</td>\n",
       "      <td>90</td>\n",
       "      <td>758.0</td>\n",
       "      <td>10</td>\n",
       "      <td>4.751865</td>\n",
       "    </tr>\n",
       "    <tr>\n",
       "      <td>3</td>\n",
       "      <td>120</td>\n",
       "      <td>1401.0</td>\n",
       "      <td>1</td>\n",
       "      <td>2.995732</td>\n",
       "    </tr>\n",
       "    <tr>\n",
       "      <td>4</td>\n",
       "      <td>130</td>\n",
       "      <td>2970.0</td>\n",
       "      <td>2</td>\n",
       "      <td>3.912023</td>\n",
       "    </tr>\n",
       "  </tbody>\n",
       "</table>\n",
       "</div>"
      ],
      "text/plain": [
       "   Customer-ID  recency  frequency  monetary\n",
       "0           10   3829.0          1  3.401197\n",
       "1           80    343.0          7  4.268698\n",
       "2           90    758.0         10  4.751865\n",
       "3          120   1401.0          1  2.995732\n",
       "4          130   2970.0          2  3.912023"
      ]
     },
     "execution_count": 641,
     "metadata": {
      "tags": []
     },
     "output_type": "execute_result"
    }
   ],
   "source": [
    "customer.head()"
   ]
  },
  {
   "cell_type": "code",
   "execution_count": null,
   "metadata": {
    "colab": {},
    "colab_type": "code",
    "id": "3C2LJ7nnneES"
   },
   "outputs": [],
   "source": [
    "customer.drop(['Customer-ID'], axis=1, inplace=True)"
   ]
  },
  {
   "cell_type": "code",
   "execution_count": null,
   "metadata": {
    "colab": {},
    "colab_type": "code",
    "id": "snzFsRNYneEU",
    "outputId": "da8834a9-af3f-4515-cc24-9db02b0f0b33"
   },
   "outputs": [
    {
     "data": {
      "text/html": [
       "<div>\n",
       "<style scoped>\n",
       "    .dataframe tbody tr th:only-of-type {\n",
       "        vertical-align: middle;\n",
       "    }\n",
       "\n",
       "    .dataframe tbody tr th {\n",
       "        vertical-align: top;\n",
       "    }\n",
       "\n",
       "    .dataframe thead th {\n",
       "        text-align: right;\n",
       "    }\n",
       "</style>\n",
       "<table border=\"1\" class=\"dataframe\">\n",
       "  <thead>\n",
       "    <tr style=\"text-align: right;\">\n",
       "      <th></th>\n",
       "      <th>recency</th>\n",
       "      <th>frequency</th>\n",
       "      <th>monetary</th>\n",
       "    </tr>\n",
       "  </thead>\n",
       "  <tbody>\n",
       "    <tr>\n",
       "      <td>0</td>\n",
       "      <td>3829.0</td>\n",
       "      <td>1</td>\n",
       "      <td>3.401197</td>\n",
       "    </tr>\n",
       "    <tr>\n",
       "      <td>1</td>\n",
       "      <td>343.0</td>\n",
       "      <td>7</td>\n",
       "      <td>4.268698</td>\n",
       "    </tr>\n",
       "    <tr>\n",
       "      <td>2</td>\n",
       "      <td>758.0</td>\n",
       "      <td>10</td>\n",
       "      <td>4.751865</td>\n",
       "    </tr>\n",
       "    <tr>\n",
       "      <td>3</td>\n",
       "      <td>1401.0</td>\n",
       "      <td>1</td>\n",
       "      <td>2.995732</td>\n",
       "    </tr>\n",
       "    <tr>\n",
       "      <td>4</td>\n",
       "      <td>2970.0</td>\n",
       "      <td>2</td>\n",
       "      <td>3.912023</td>\n",
       "    </tr>\n",
       "  </tbody>\n",
       "</table>\n",
       "</div>"
      ],
      "text/plain": [
       "   recency  frequency  monetary\n",
       "0   3829.0          1  3.401197\n",
       "1    343.0          7  4.268698\n",
       "2    758.0         10  4.751865\n",
       "3   1401.0          1  2.995732\n",
       "4   2970.0          2  3.912023"
      ]
     },
     "execution_count": 643,
     "metadata": {
      "tags": []
     },
     "output_type": "execute_result"
    }
   ],
   "source": [
    "customer.head()"
   ]
  },
  {
   "cell_type": "code",
   "execution_count": null,
   "metadata": {
    "colab": {},
    "colab_type": "code",
    "id": "uHVLr6pOneEW"
   },
   "outputs": [],
   "source": [
    "from sklearn.preprocessing import StandardScaler\n",
    "sc = StandardScaler()\n",
    "customer_sc = sc.fit_transform(customer.values)"
   ]
  },
  {
   "cell_type": "code",
   "execution_count": null,
   "metadata": {
    "colab": {},
    "colab_type": "code",
    "id": "wmhh85oXneEZ",
    "outputId": "dd1a48ee-b9ec-4d24-e533-6c3ea78f3f17"
   },
   "outputs": [
    {
     "data": {
      "text/html": [
       "<div>\n",
       "<style scoped>\n",
       "    .dataframe tbody tr th:only-of-type {\n",
       "        vertical-align: middle;\n",
       "    }\n",
       "\n",
       "    .dataframe tbody tr th {\n",
       "        vertical-align: top;\n",
       "    }\n",
       "\n",
       "    .dataframe thead th {\n",
       "        text-align: right;\n",
       "    }\n",
       "</style>\n",
       "<table border=\"1\" class=\"dataframe\">\n",
       "  <thead>\n",
       "    <tr style=\"text-align: right;\">\n",
       "      <th></th>\n",
       "      <th>0</th>\n",
       "      <th>1</th>\n",
       "      <th>2</th>\n",
       "    </tr>\n",
       "  </thead>\n",
       "  <tbody>\n",
       "    <tr>\n",
       "      <td>0</td>\n",
       "      <td>2.382043</td>\n",
       "      <td>-0.606909</td>\n",
       "      <td>-0.235802</td>\n",
       "    </tr>\n",
       "    <tr>\n",
       "      <td>1</td>\n",
       "      <td>-0.841530</td>\n",
       "      <td>1.436125</td>\n",
       "      <td>0.894386</td>\n",
       "    </tr>\n",
       "    <tr>\n",
       "      <td>2</td>\n",
       "      <td>-0.457771</td>\n",
       "      <td>2.457642</td>\n",
       "      <td>1.523861</td>\n",
       "    </tr>\n",
       "    <tr>\n",
       "      <td>3</td>\n",
       "      <td>0.136824</td>\n",
       "      <td>-0.606909</td>\n",
       "      <td>-0.764046</td>\n",
       "    </tr>\n",
       "    <tr>\n",
       "      <td>4</td>\n",
       "      <td>1.587709</td>\n",
       "      <td>-0.266403</td>\n",
       "      <td>0.429707</td>\n",
       "    </tr>\n",
       "    <tr>\n",
       "      <td>...</td>\n",
       "      <td>...</td>\n",
       "      <td>...</td>\n",
       "      <td>...</td>\n",
       "    </tr>\n",
       "    <tr>\n",
       "      <td>18412</td>\n",
       "      <td>-1.157784</td>\n",
       "      <td>-0.606909</td>\n",
       "      <td>-1.667085</td>\n",
       "    </tr>\n",
       "    <tr>\n",
       "      <td>18413</td>\n",
       "      <td>-1.033872</td>\n",
       "      <td>-0.606909</td>\n",
       "      <td>0.429707</td>\n",
       "    </tr>\n",
       "    <tr>\n",
       "      <td>18414</td>\n",
       "      <td>-1.127269</td>\n",
       "      <td>-0.606909</td>\n",
       "      <td>-0.764046</td>\n",
       "    </tr>\n",
       "    <tr>\n",
       "      <td>18415</td>\n",
       "      <td>-1.154086</td>\n",
       "      <td>-0.606909</td>\n",
       "      <td>0.529972</td>\n",
       "    </tr>\n",
       "    <tr>\n",
       "      <td>18416</td>\n",
       "      <td>-1.157784</td>\n",
       "      <td>-0.606909</td>\n",
       "      <td>3.429538</td>\n",
       "    </tr>\n",
       "  </tbody>\n",
       "</table>\n",
       "<p>18417 rows × 3 columns</p>\n",
       "</div>"
      ],
      "text/plain": [
       "              0         1         2\n",
       "0      2.382043 -0.606909 -0.235802\n",
       "1     -0.841530  1.436125  0.894386\n",
       "2     -0.457771  2.457642  1.523861\n",
       "3      0.136824 -0.606909 -0.764046\n",
       "4      1.587709 -0.266403  0.429707\n",
       "...         ...       ...       ...\n",
       "18412 -1.157784 -0.606909 -1.667085\n",
       "18413 -1.033872 -0.606909  0.429707\n",
       "18414 -1.127269 -0.606909 -0.764046\n",
       "18415 -1.154086 -0.606909  0.529972\n",
       "18416 -1.157784 -0.606909  3.429538\n",
       "\n",
       "[18417 rows x 3 columns]"
      ]
     },
     "execution_count": 645,
     "metadata": {
      "tags": []
     },
     "output_type": "execute_result"
    }
   ],
   "source": [
    "pd.DataFrame(customer_sc)"
   ]
  },
  {
   "cell_type": "code",
   "execution_count": null,
   "metadata": {
    "colab": {},
    "colab_type": "code",
    "id": "_G7jhoX5neEf"
   },
   "outputs": [],
   "source": [
    "customer_1=customer.copy()"
   ]
  },
  {
   "cell_type": "markdown",
   "metadata": {
    "colab_type": "text",
    "id": "LW4qG4aBneEi"
   },
   "source": [
    "## Kmeans"
   ]
  },
  {
   "cell_type": "code",
   "execution_count": null,
   "metadata": {
    "colab": {},
    "colab_type": "code",
    "id": "H9MiVIttneEi"
   },
   "outputs": [],
   "source": [
    "from sklearn.cluster import KMeans"
   ]
  },
  {
   "cell_type": "code",
   "execution_count": null,
   "metadata": {
    "colab": {},
    "colab_type": "code",
    "id": "ywDIaaseneEl",
    "outputId": "94a15535-6397-4df2-e3e9-83e86bd62276"
   },
   "outputs": [
    {
     "data": {
      "text/plain": [
       "Text(0, 0.5, 'WCSS')"
      ]
     },
     "execution_count": 648,
     "metadata": {
      "tags": []
     },
     "output_type": "execute_result"
    },
    {
     "data": {
      "image/png": "[encoded data removed]",
      "text/plain": [
       "<Figure size 720x360 with 1 Axes>"
      ]
     },
     "metadata": {
      "needs_background": "light",
      "tags": []
     },
     "output_type": "display_data"
    }
   ],
   "source": [
    "wcss=[]\n",
    "for i in range(1,10):\n",
    "    kmeans = KMeans(n_clusters = i, init='k-means++', random_state=42)\n",
    "    kmeans.fit(customer_sc)\n",
    "\n",
    "\n",
    "    wcss.append(kmeans.inertia_)\n",
    "\n",
    "plt.figure(figsize=(10,5))\n",
    "sns.set_style('whitegrid')\n",
    "sns.lineplot(x=range(1,10), y=wcss,lw= 3)\n",
    "plt.title('The Elbow Method')\n",
    "plt.xlabel('Number of clusters')\n",
    "plt.ylabel('WCSS')\n",
    "                 "
   ]
  },
  {
   "cell_type": "markdown",
   "metadata": {
    "colab_type": "text",
    "id": "l_CqG5kMneEo"
   },
   "source": [
    "## 6 Cluster Centers"
   ]
  },
  {
   "cell_type": "code",
   "execution_count": null,
   "metadata": {
    "colab": {},
    "colab_type": "code",
    "id": "UduxoW8ZneEq",
    "outputId": "e5b4ba2c-d0ce-4828-e3b4-8ef10f2adbf0"
   },
   "outputs": [
    {
     "data": {
      "text/plain": [
       "KMeans(algorithm='auto', copy_x=True, init='k-means++', max_iter=300,\n",
       "       n_clusters=6, n_init=10, n_jobs=None, precompute_distances='auto',\n",
       "       random_state=42, tol=0.0001, verbose=0)"
      ]
     },
     "execution_count": 649,
     "metadata": {
      "tags": []
     },
     "output_type": "execute_result"
    }
   ],
   "source": [
    "kmeans=KMeans(n_clusters=6, init='k-means++', random_state=42)\n",
    "kmeans.fit(customer_sc)"
   ]
  },
  {
   "cell_type": "code",
   "execution_count": null,
   "metadata": {
    "colab": {},
    "colab_type": "code",
    "id": "5SFInh_jneEu",
    "outputId": "3ac40e9f-551d-4268-edd1-9698a36da552"
   },
   "outputs": [
    {
     "data": {
      "text/plain": [
       "array([[ 1.1764366 , -0.38956895,  0.25016248],\n",
       "       [-0.63767102, -0.20428795,  0.74306929],\n",
       "       [-0.87251191,  2.19972141,  0.22477794],\n",
       "       [-0.53772314, -0.25084289, -0.57078692],\n",
       "       [-0.42044372,  0.11486291,  3.1906975 ],\n",
       "       [ 1.20560373, -0.464325  , -1.0043526 ]])"
      ]
     },
     "execution_count": 650,
     "metadata": {
      "tags": []
     },
     "output_type": "execute_result"
    }
   ],
   "source": [
    "kmeans.cluster_centers_"
   ]
  },
  {
   "cell_type": "code",
   "execution_count": null,
   "metadata": {
    "colab": {},
    "colab_type": "code",
    "id": "VHR1TA01neEw"
   },
   "outputs": [],
   "source": [
    "customer['clusters']= kmeans.labels_"
   ]
  },
  {
   "cell_type": "code",
   "execution_count": null,
   "metadata": {
    "colab": {},
    "colab_type": "code",
    "id": "MFZpEygxneEx",
    "outputId": "1149e508-8e0d-4899-87a9-7cd12d128605"
   },
   "outputs": [
    {
     "data": {
      "text/plain": [
       "array([[ 2.38204349, -0.60690881, -0.23580188],\n",
       "       [-0.84153018,  1.43612529,  0.89438649],\n",
       "       [-0.45777141,  2.45764235,  1.52386076],\n",
       "       ...,\n",
       "       [-1.12726864, -0.60690881, -0.76404585],\n",
       "       [-1.15408552, -0.60690881,  0.52997243],\n",
       "       [-1.1577844 , -0.60690881,  3.42953758]])"
      ]
     },
     "execution_count": 652,
     "metadata": {
      "tags": []
     },
     "output_type": "execute_result"
    }
   ],
   "source": [
    "customer_sc"
   ]
  },
  {
   "cell_type": "code",
   "execution_count": null,
   "metadata": {
    "colab": {},
    "colab_type": "code",
    "id": "o58ZHk0DneE0",
    "outputId": "e1b0d149-0264-4381-856b-b0659e6fc4c0"
   },
   "outputs": [
    {
     "data": {
      "text/plain": [
       "Text(0.5, 1.0, 'Clusters')"
      ]
     },
     "execution_count": 653,
     "metadata": {
      "tags": []
     },
     "output_type": "execute_result"
    },
    {
     "data": {
      "image/png": "[encoded data removed]",
      "text/plain": [
       "<Figure size 720x360 with 1 Axes>"
      ]
     },
     "metadata": {
      "tags": []
     },
     "output_type": "display_data"
    }
   ],
   "source": [
    "plt.figure(figsize=(10,5))\n",
    "plt.scatter(customer_sc[:,0], customer_sc[:,2] ,c =kmeans.labels_)\n",
    "plt.grid(b=None)\n",
    "plt.title(\"Clusters\", fontdict={'fontsize':15})"
   ]
  },
  {
   "cell_type": "code",
   "execution_count": null,
   "metadata": {
    "colab": {},
    "colab_type": "code",
    "id": "ViCrocqkneE2",
    "outputId": "88d8411b-2a0e-4a63-b8d8-7394aa263b92"
   },
   "outputs": [
    {
     "data": {
      "text/html": [
       "<div>\n",
       "<style scoped>\n",
       "    .dataframe tbody tr th:only-of-type {\n",
       "        vertical-align: middle;\n",
       "    }\n",
       "\n",
       "    .dataframe tbody tr th {\n",
       "        vertical-align: top;\n",
       "    }\n",
       "\n",
       "    .dataframe thead th {\n",
       "        text-align: right;\n",
       "    }\n",
       "</style>\n",
       "<table border=\"1\" class=\"dataframe\">\n",
       "  <thead>\n",
       "    <tr style=\"text-align: right;\">\n",
       "      <th>col_0</th>\n",
       "      <th>0</th>\n",
       "      <th>1</th>\n",
       "      <th>2</th>\n",
       "      <th>3</th>\n",
       "      <th>4</th>\n",
       "      <th>5</th>\n",
       "    </tr>\n",
       "    <tr>\n",
       "      <th>row_0</th>\n",
       "      <th></th>\n",
       "      <th></th>\n",
       "      <th></th>\n",
       "      <th></th>\n",
       "      <th></th>\n",
       "      <th></th>\n",
       "    </tr>\n",
       "  </thead>\n",
       "  <tbody>\n",
       "    <tr>\n",
       "      <td>0</td>\n",
       "      <td>3455</td>\n",
       "      <td>0</td>\n",
       "      <td>0</td>\n",
       "      <td>0</td>\n",
       "      <td>0</td>\n",
       "      <td>0</td>\n",
       "    </tr>\n",
       "    <tr>\n",
       "      <td>1</td>\n",
       "      <td>0</td>\n",
       "      <td>3924</td>\n",
       "      <td>0</td>\n",
       "      <td>0</td>\n",
       "      <td>0</td>\n",
       "      <td>0</td>\n",
       "    </tr>\n",
       "    <tr>\n",
       "      <td>2</td>\n",
       "      <td>0</td>\n",
       "      <td>0</td>\n",
       "      <td>2177</td>\n",
       "      <td>0</td>\n",
       "      <td>0</td>\n",
       "      <td>0</td>\n",
       "    </tr>\n",
       "    <tr>\n",
       "      <td>3</td>\n",
       "      <td>0</td>\n",
       "      <td>0</td>\n",
       "      <td>0</td>\n",
       "      <td>5429</td>\n",
       "      <td>0</td>\n",
       "      <td>0</td>\n",
       "    </tr>\n",
       "    <tr>\n",
       "      <td>4</td>\n",
       "      <td>0</td>\n",
       "      <td>0</td>\n",
       "      <td>0</td>\n",
       "      <td>0</td>\n",
       "      <td>543</td>\n",
       "      <td>0</td>\n",
       "    </tr>\n",
       "    <tr>\n",
       "      <td>5</td>\n",
       "      <td>0</td>\n",
       "      <td>0</td>\n",
       "      <td>0</td>\n",
       "      <td>0</td>\n",
       "      <td>0</td>\n",
       "      <td>2889</td>\n",
       "    </tr>\n",
       "  </tbody>\n",
       "</table>\n",
       "</div>"
      ],
      "text/plain": [
       "col_0     0     1     2     3    4     5\n",
       "row_0                                   \n",
       "0      3455     0     0     0    0     0\n",
       "1         0  3924     0     0    0     0\n",
       "2         0     0  2177     0    0     0\n",
       "3         0     0     0  5429    0     0\n",
       "4         0     0     0     0  543     0\n",
       "5         0     0     0     0    0  2889"
      ]
     },
     "execution_count": 654,
     "metadata": {
      "tags": []
     },
     "output_type": "execute_result"
    }
   ],
   "source": [
    "pd.crosstab(kmeans.labels_, kmeans.labels_)"
   ]
  },
  {
   "cell_type": "code",
   "execution_count": null,
   "metadata": {
    "colab": {},
    "colab_type": "code",
    "id": "n90MgbXUneE5",
    "outputId": "99b205a5-b4c6-47b5-8960-c47b6d61c8a7"
   },
   "outputs": [
    {
     "data": {
      "image/png": "[encoded data removed]",
      "text/plain": [
       "<Figure size 720x360 with 1 Axes>"
      ]
     },
     "metadata": {
      "tags": []
     },
     "output_type": "display_data"
    }
   ],
   "source": [
    "plt.figure(figsize=(10,5))\n",
    "sns.distplot(kmeans.labels_, kde=False)\n",
    "plt.grid(b=None)"
   ]
  },
  {
   "cell_type": "code",
   "execution_count": null,
   "metadata": {
    "colab": {},
    "colab_type": "code",
    "id": "pv23KUCIneE8",
    "outputId": "7180e643-96c3-4e53-9d6b-07ff1f076984"
   },
   "outputs": [
    {
     "data": {
      "text/html": [
       "<div>\n",
       "<style scoped>\n",
       "    .dataframe tbody tr th:only-of-type {\n",
       "        vertical-align: middle;\n",
       "    }\n",
       "\n",
       "    .dataframe tbody tr th {\n",
       "        vertical-align: top;\n",
       "    }\n",
       "\n",
       "    .dataframe thead th {\n",
       "        text-align: right;\n",
       "    }\n",
       "</style>\n",
       "<table border=\"1\" class=\"dataframe\">\n",
       "  <thead>\n",
       "    <tr style=\"text-align: right;\">\n",
       "      <th></th>\n",
       "      <th>recency</th>\n",
       "      <th>frequency</th>\n",
       "      <th>monetary</th>\n",
       "      <th>clusters</th>\n",
       "    </tr>\n",
       "  </thead>\n",
       "  <tbody>\n",
       "    <tr>\n",
       "      <td>0</td>\n",
       "      <td>3829.0</td>\n",
       "      <td>1</td>\n",
       "      <td>3.401197</td>\n",
       "      <td>0</td>\n",
       "    </tr>\n",
       "    <tr>\n",
       "      <td>1</td>\n",
       "      <td>343.0</td>\n",
       "      <td>7</td>\n",
       "      <td>4.268698</td>\n",
       "      <td>2</td>\n",
       "    </tr>\n",
       "    <tr>\n",
       "      <td>2</td>\n",
       "      <td>758.0</td>\n",
       "      <td>10</td>\n",
       "      <td>4.751865</td>\n",
       "      <td>2</td>\n",
       "    </tr>\n",
       "    <tr>\n",
       "      <td>3</td>\n",
       "      <td>1401.0</td>\n",
       "      <td>1</td>\n",
       "      <td>2.995732</td>\n",
       "      <td>3</td>\n",
       "    </tr>\n",
       "    <tr>\n",
       "      <td>4</td>\n",
       "      <td>2970.0</td>\n",
       "      <td>2</td>\n",
       "      <td>3.912023</td>\n",
       "      <td>0</td>\n",
       "    </tr>\n",
       "  </tbody>\n",
       "</table>\n",
       "</div>"
      ],
      "text/plain": [
       "   recency  frequency  monetary  clusters\n",
       "0   3829.0          1  3.401197         0\n",
       "1    343.0          7  4.268698         2\n",
       "2    758.0         10  4.751865         2\n",
       "3   1401.0          1  2.995732         3\n",
       "4   2970.0          2  3.912023         0"
      ]
     },
     "execution_count": 656,
     "metadata": {
      "tags": []
     },
     "output_type": "execute_result"
    }
   ],
   "source": [
    "customer.head()"
   ]
  },
  {
   "cell_type": "code",
   "execution_count": null,
   "metadata": {
    "colab": {},
    "colab_type": "code",
    "id": "cBhzAzMBneFA"
   },
   "outputs": [],
   "source": [
    "customer['monetary']= np.exp(customer['monetary'])"
   ]
  },
  {
   "cell_type": "code",
   "execution_count": null,
   "metadata": {
    "colab": {},
    "colab_type": "code",
    "id": "8O7sJ7rcneFC",
    "outputId": "170f0c45-1235-4834-d33f-558624663e5a"
   },
   "outputs": [
    {
     "data": {
      "text/html": [
       "<div>\n",
       "<style scoped>\n",
       "    .dataframe tbody tr th:only-of-type {\n",
       "        vertical-align: middle;\n",
       "    }\n",
       "\n",
       "    .dataframe tbody tr th {\n",
       "        vertical-align: top;\n",
       "    }\n",
       "\n",
       "    .dataframe thead th {\n",
       "        text-align: right;\n",
       "    }\n",
       "</style>\n",
       "<table border=\"1\" class=\"dataframe\">\n",
       "  <thead>\n",
       "    <tr style=\"text-align: right;\">\n",
       "      <th></th>\n",
       "      <th>recency</th>\n",
       "      <th>frequency</th>\n",
       "      <th>monetary</th>\n",
       "      <th>clusters</th>\n",
       "    </tr>\n",
       "  </thead>\n",
       "  <tbody>\n",
       "    <tr>\n",
       "      <td>0</td>\n",
       "      <td>3829.0</td>\n",
       "      <td>1</td>\n",
       "      <td>30.000000</td>\n",
       "      <td>0</td>\n",
       "    </tr>\n",
       "    <tr>\n",
       "      <td>1</td>\n",
       "      <td>343.0</td>\n",
       "      <td>7</td>\n",
       "      <td>71.428571</td>\n",
       "      <td>2</td>\n",
       "    </tr>\n",
       "    <tr>\n",
       "      <td>2</td>\n",
       "      <td>758.0</td>\n",
       "      <td>10</td>\n",
       "      <td>115.800000</td>\n",
       "      <td>2</td>\n",
       "    </tr>\n",
       "    <tr>\n",
       "      <td>3</td>\n",
       "      <td>1401.0</td>\n",
       "      <td>1</td>\n",
       "      <td>20.000000</td>\n",
       "      <td>3</td>\n",
       "    </tr>\n",
       "    <tr>\n",
       "      <td>4</td>\n",
       "      <td>2970.0</td>\n",
       "      <td>2</td>\n",
       "      <td>50.000000</td>\n",
       "      <td>0</td>\n",
       "    </tr>\n",
       "  </tbody>\n",
       "</table>\n",
       "</div>"
      ],
      "text/plain": [
       "   recency  frequency    monetary  clusters\n",
       "0   3829.0          1   30.000000         0\n",
       "1    343.0          7   71.428571         2\n",
       "2    758.0         10  115.800000         2\n",
       "3   1401.0          1   20.000000         3\n",
       "4   2970.0          2   50.000000         0"
      ]
     },
     "execution_count": 658,
     "metadata": {
      "tags": []
     },
     "output_type": "execute_result"
    }
   ],
   "source": [
    "customer.head()"
   ]
  },
  {
   "cell_type": "code",
   "execution_count": null,
   "metadata": {
    "colab": {},
    "colab_type": "code",
    "id": "67x5WKxlneFG"
   },
   "outputs": [],
   "source": [
    "cluster = customer.groupby(['clusters']).mean().reset_index()"
   ]
  },
  {
   "cell_type": "code",
   "execution_count": null,
   "metadata": {
    "colab": {},
    "colab_type": "code",
    "id": "cSnDA1hmneFI",
    "outputId": "de8d3457-434e-4b75-9ce1-1d1fc6207cd2"
   },
   "outputs": [
    {
     "data": {
      "text/html": [
       "<div>\n",
       "<style scoped>\n",
       "    .dataframe tbody tr th:only-of-type {\n",
       "        vertical-align: middle;\n",
       "    }\n",
       "\n",
       "    .dataframe tbody tr th {\n",
       "        vertical-align: top;\n",
       "    }\n",
       "\n",
       "    .dataframe thead th {\n",
       "        text-align: right;\n",
       "    }\n",
       "</style>\n",
       "<table border=\"1\" class=\"dataframe\">\n",
       "  <thead>\n",
       "    <tr style=\"text-align: right;\">\n",
       "      <th></th>\n",
       "      <th>clusters</th>\n",
       "      <th>recency</th>\n",
       "      <th>frequency</th>\n",
       "      <th>monetary</th>\n",
       "    </tr>\n",
       "  </thead>\n",
       "  <tbody>\n",
       "    <tr>\n",
       "      <td>0</td>\n",
       "      <td>0</td>\n",
       "      <td>2524.746744</td>\n",
       "      <td>1.638495</td>\n",
       "      <td>48.220271</td>\n",
       "    </tr>\n",
       "    <tr>\n",
       "      <td>1</td>\n",
       "      <td>1</td>\n",
       "      <td>562.937819</td>\n",
       "      <td>2.182722</td>\n",
       "      <td>68.315371</td>\n",
       "    </tr>\n",
       "    <tr>\n",
       "      <td>2</td>\n",
       "      <td>2</td>\n",
       "      <td>309.496096</td>\n",
       "      <td>9.242536</td>\n",
       "      <td>52.297284</td>\n",
       "    </tr>\n",
       "    <tr>\n",
       "      <td>3</td>\n",
       "      <td>3</td>\n",
       "      <td>671.983422</td>\n",
       "      <td>2.045496</td>\n",
       "      <td>24.640859</td>\n",
       "    </tr>\n",
       "    <tr>\n",
       "      <td>4</td>\n",
       "      <td>4</td>\n",
       "      <td>798.366483</td>\n",
       "      <td>3.119705</td>\n",
       "      <td>610.422630</td>\n",
       "    </tr>\n",
       "    <tr>\n",
       "      <td>5</td>\n",
       "      <td>5</td>\n",
       "      <td>2557.890966</td>\n",
       "      <td>1.418138</td>\n",
       "      <td>17.520580</td>\n",
       "    </tr>\n",
       "  </tbody>\n",
       "</table>\n",
       "</div>"
      ],
      "text/plain": [
       "   clusters      recency  frequency    monetary\n",
       "0         0  2524.746744   1.638495   48.220271\n",
       "1         1   562.937819   2.182722   68.315371\n",
       "2         2   309.496096   9.242536   52.297284\n",
       "3         3   671.983422   2.045496   24.640859\n",
       "4         4   798.366483   3.119705  610.422630\n",
       "5         5  2557.890966   1.418138   17.520580"
      ]
     },
     "execution_count": 660,
     "metadata": {
      "tags": []
     },
     "output_type": "execute_result"
    }
   ],
   "source": [
    "cluster"
   ]
  },
  {
   "cell_type": "code",
   "execution_count": null,
   "metadata": {
    "colab": {},
    "colab_type": "code",
    "id": "Jus34jwNneFL"
   },
   "outputs": [],
   "source": [
    "cluster['total_monetary']= cluster['frequency']*cluster['monetary']"
   ]
  },
  {
   "cell_type": "code",
   "execution_count": null,
   "metadata": {
    "colab": {},
    "colab_type": "code",
    "id": "5Kt6nIPyneFN",
    "outputId": "547217d5-b525-4ed2-f1f9-0c243804163e"
   },
   "outputs": [
    {
     "data": {
      "text/html": [
       "<div>\n",
       "<style scoped>\n",
       "    .dataframe tbody tr th:only-of-type {\n",
       "        vertical-align: middle;\n",
       "    }\n",
       "\n",
       "    .dataframe tbody tr th {\n",
       "        vertical-align: top;\n",
       "    }\n",
       "\n",
       "    .dataframe thead th {\n",
       "        text-align: right;\n",
       "    }\n",
       "</style>\n",
       "<table border=\"1\" class=\"dataframe\">\n",
       "  <thead>\n",
       "    <tr style=\"text-align: right;\">\n",
       "      <th></th>\n",
       "      <th>clusters</th>\n",
       "      <th>recency</th>\n",
       "      <th>frequency</th>\n",
       "      <th>monetary</th>\n",
       "      <th>total_monetary</th>\n",
       "    </tr>\n",
       "  </thead>\n",
       "  <tbody>\n",
       "    <tr>\n",
       "      <td>0</td>\n",
       "      <td>0</td>\n",
       "      <td>2524.746744</td>\n",
       "      <td>1.638495</td>\n",
       "      <td>48.220271</td>\n",
       "      <td>79.008670</td>\n",
       "    </tr>\n",
       "    <tr>\n",
       "      <td>1</td>\n",
       "      <td>1</td>\n",
       "      <td>562.937819</td>\n",
       "      <td>2.182722</td>\n",
       "      <td>68.315371</td>\n",
       "      <td>149.113443</td>\n",
       "    </tr>\n",
       "    <tr>\n",
       "      <td>2</td>\n",
       "      <td>2</td>\n",
       "      <td>309.496096</td>\n",
       "      <td>9.242536</td>\n",
       "      <td>52.297284</td>\n",
       "      <td>483.359506</td>\n",
       "    </tr>\n",
       "    <tr>\n",
       "      <td>3</td>\n",
       "      <td>3</td>\n",
       "      <td>671.983422</td>\n",
       "      <td>2.045496</td>\n",
       "      <td>24.640859</td>\n",
       "      <td>50.402789</td>\n",
       "    </tr>\n",
       "    <tr>\n",
       "      <td>4</td>\n",
       "      <td>4</td>\n",
       "      <td>798.366483</td>\n",
       "      <td>3.119705</td>\n",
       "      <td>610.422630</td>\n",
       "      <td>1904.338738</td>\n",
       "    </tr>\n",
       "    <tr>\n",
       "      <td>5</td>\n",
       "      <td>5</td>\n",
       "      <td>2557.890966</td>\n",
       "      <td>1.418138</td>\n",
       "      <td>17.520580</td>\n",
       "      <td>24.846596</td>\n",
       "    </tr>\n",
       "  </tbody>\n",
       "</table>\n",
       "</div>"
      ],
      "text/plain": [
       "   clusters      recency  frequency    monetary  total_monetary\n",
       "0         0  2524.746744   1.638495   48.220271       79.008670\n",
       "1         1   562.937819   2.182722   68.315371      149.113443\n",
       "2         2   309.496096   9.242536   52.297284      483.359506\n",
       "3         3   671.983422   2.045496   24.640859       50.402789\n",
       "4         4   798.366483   3.119705  610.422630     1904.338738\n",
       "5         5  2557.890966   1.418138   17.520580       24.846596"
      ]
     },
     "execution_count": 662,
     "metadata": {
      "tags": []
     },
     "output_type": "execute_result"
    }
   ],
   "source": [
    "cluster"
   ]
  },
  {
   "cell_type": "markdown",
   "metadata": {
    "colab_type": "text",
    "id": "cue8EQrWneFP"
   },
   "source": [
    "## 5 Cluster Centers"
   ]
  },
  {
   "cell_type": "code",
   "execution_count": null,
   "metadata": {
    "colab": {},
    "colab_type": "code",
    "id": "Hq8jdI1qneFQ",
    "outputId": "43f778d1-2e35-45fc-e242-b7fa3c0e79af"
   },
   "outputs": [
    {
     "data": {
      "text/plain": [
       "KMeans(algorithm='auto', copy_x=True, init='k-means++', max_iter=300,\n",
       "       n_clusters=5, n_init=10, n_jobs=None, precompute_distances='auto',\n",
       "       random_state=42, tol=0.0001, verbose=0)"
      ]
     },
     "execution_count": 663,
     "metadata": {
      "tags": []
     },
     "output_type": "execute_result"
    }
   ],
   "source": [
    "kmeans_5=KMeans(n_clusters=5, init='k-means++', random_state=42)\n",
    "kmeans_5.fit(customer_sc)"
   ]
  },
  {
   "cell_type": "code",
   "execution_count": null,
   "metadata": {
    "colab": {},
    "colab_type": "code",
    "id": "uSEg2h5-neFS",
    "outputId": "a65878e8-332f-4f72-cc38-f3bbf465e79b"
   },
   "outputs": [
    {
     "data": {
      "text/plain": [
       "array([[-0.54086611, -0.20855138,  0.72330751],\n",
       "       [ 1.25209809, -0.43444259, -0.3747397 ],\n",
       "       [-0.20297745,  0.04933851,  2.96378457],\n",
       "       [-0.87736573,  2.1967698 ,  0.22450582],\n",
       "       [-0.51737483, -0.25956096, -0.61183971]])"
      ]
     },
     "execution_count": 664,
     "metadata": {
      "tags": []
     },
     "output_type": "execute_result"
    }
   ],
   "source": [
    "kmeans_5.cluster_centers_"
   ]
  },
  {
   "cell_type": "code",
   "execution_count": null,
   "metadata": {
    "colab": {},
    "colab_type": "code",
    "id": "yHwWZTECneFT"
   },
   "outputs": [],
   "source": [
    "customer_1['clusters']= kmeans_5.labels_"
   ]
  },
  {
   "cell_type": "code",
   "execution_count": null,
   "metadata": {
    "colab": {},
    "colab_type": "code",
    "id": "TVXSbhi0neFV",
    "outputId": "0edbe286-fa89-4ad1-ad8b-2292ebf07ca2"
   },
   "outputs": [
    {
     "data": {
      "text/html": [
       "<div>\n",
       "<style scoped>\n",
       "    .dataframe tbody tr th:only-of-type {\n",
       "        vertical-align: middle;\n",
       "    }\n",
       "\n",
       "    .dataframe tbody tr th {\n",
       "        vertical-align: top;\n",
       "    }\n",
       "\n",
       "    .dataframe thead th {\n",
       "        text-align: right;\n",
       "    }\n",
       "</style>\n",
       "<table border=\"1\" class=\"dataframe\">\n",
       "  <thead>\n",
       "    <tr style=\"text-align: right;\">\n",
       "      <th></th>\n",
       "      <th>recency</th>\n",
       "      <th>frequency</th>\n",
       "      <th>monetary</th>\n",
       "      <th>clusters</th>\n",
       "    </tr>\n",
       "  </thead>\n",
       "  <tbody>\n",
       "    <tr>\n",
       "      <td>0</td>\n",
       "      <td>3829.0</td>\n",
       "      <td>1</td>\n",
       "      <td>3.401197</td>\n",
       "      <td>1</td>\n",
       "    </tr>\n",
       "    <tr>\n",
       "      <td>1</td>\n",
       "      <td>343.0</td>\n",
       "      <td>7</td>\n",
       "      <td>4.268698</td>\n",
       "      <td>3</td>\n",
       "    </tr>\n",
       "    <tr>\n",
       "      <td>2</td>\n",
       "      <td>758.0</td>\n",
       "      <td>10</td>\n",
       "      <td>4.751865</td>\n",
       "      <td>3</td>\n",
       "    </tr>\n",
       "    <tr>\n",
       "      <td>3</td>\n",
       "      <td>1401.0</td>\n",
       "      <td>1</td>\n",
       "      <td>2.995732</td>\n",
       "      <td>4</td>\n",
       "    </tr>\n",
       "    <tr>\n",
       "      <td>4</td>\n",
       "      <td>2970.0</td>\n",
       "      <td>2</td>\n",
       "      <td>3.912023</td>\n",
       "      <td>1</td>\n",
       "    </tr>\n",
       "  </tbody>\n",
       "</table>\n",
       "</div>"
      ],
      "text/plain": [
       "   recency  frequency  monetary  clusters\n",
       "0   3829.0          1  3.401197         1\n",
       "1    343.0          7  4.268698         3\n",
       "2    758.0         10  4.751865         3\n",
       "3   1401.0          1  2.995732         4\n",
       "4   2970.0          2  3.912023         1"
      ]
     },
     "execution_count": 666,
     "metadata": {
      "tags": []
     },
     "output_type": "execute_result"
    }
   ],
   "source": [
    "customer_1.head()"
   ]
  },
  {
   "cell_type": "code",
   "execution_count": null,
   "metadata": {
    "colab": {},
    "colab_type": "code",
    "id": "_QGA1SzrneFY",
    "outputId": "be90e762-4fab-4acf-918a-7c8bb303280d"
   },
   "outputs": [
    {
     "data": {
      "text/plain": [
       "Text(0.5, 1.0, 'Clusters')"
      ]
     },
     "execution_count": 667,
     "metadata": {
      "tags": []
     },
     "output_type": "execute_result"
    },
    {
     "data": {
      "image/png": "[encoded data removed]",
      "text/plain": [
       "<Figure size 720x360 with 1 Axes>"
      ]
     },
     "metadata": {
      "tags": []
     },
     "output_type": "display_data"
    }
   ],
   "source": [
    "plt.figure(figsize=(10,5))\n",
    "plt.scatter(customer_sc[:,0], customer_sc[:,2] ,c =kmeans_5.labels_)\n",
    "plt.grid(b=None)\n",
    "plt.title(\"Clusters\", fontdict={'fontsize':15})"
   ]
  },
  {
   "cell_type": "code",
   "execution_count": null,
   "metadata": {
    "colab": {},
    "colab_type": "code",
    "id": "04RXtw3zneFZ"
   },
   "outputs": [],
   "source": [
    "customer_1['monetary']= np.exp(customer_1['monetary'])"
   ]
  },
  {
   "cell_type": "code",
   "execution_count": null,
   "metadata": {
    "colab": {},
    "colab_type": "code",
    "id": "nTzRgNIWneFb",
    "outputId": "b9835925-a686-4498-8eeb-81515b8974f6"
   },
   "outputs": [
    {
     "data": {
      "text/html": [
       "<div>\n",
       "<style scoped>\n",
       "    .dataframe tbody tr th:only-of-type {\n",
       "        vertical-align: middle;\n",
       "    }\n",
       "\n",
       "    .dataframe tbody tr th {\n",
       "        vertical-align: top;\n",
       "    }\n",
       "\n",
       "    .dataframe thead th {\n",
       "        text-align: right;\n",
       "    }\n",
       "</style>\n",
       "<table border=\"1\" class=\"dataframe\">\n",
       "  <thead>\n",
       "    <tr style=\"text-align: right;\">\n",
       "      <th></th>\n",
       "      <th>recency</th>\n",
       "      <th>frequency</th>\n",
       "      <th>monetary</th>\n",
       "      <th>clusters</th>\n",
       "    </tr>\n",
       "  </thead>\n",
       "  <tbody>\n",
       "    <tr>\n",
       "      <td>0</td>\n",
       "      <td>3829.0</td>\n",
       "      <td>1</td>\n",
       "      <td>30.000000</td>\n",
       "      <td>1</td>\n",
       "    </tr>\n",
       "    <tr>\n",
       "      <td>1</td>\n",
       "      <td>343.0</td>\n",
       "      <td>7</td>\n",
       "      <td>71.428571</td>\n",
       "      <td>3</td>\n",
       "    </tr>\n",
       "    <tr>\n",
       "      <td>2</td>\n",
       "      <td>758.0</td>\n",
       "      <td>10</td>\n",
       "      <td>115.800000</td>\n",
       "      <td>3</td>\n",
       "    </tr>\n",
       "    <tr>\n",
       "      <td>3</td>\n",
       "      <td>1401.0</td>\n",
       "      <td>1</td>\n",
       "      <td>20.000000</td>\n",
       "      <td>4</td>\n",
       "    </tr>\n",
       "    <tr>\n",
       "      <td>4</td>\n",
       "      <td>2970.0</td>\n",
       "      <td>2</td>\n",
       "      <td>50.000000</td>\n",
       "      <td>1</td>\n",
       "    </tr>\n",
       "  </tbody>\n",
       "</table>\n",
       "</div>"
      ],
      "text/plain": [
       "   recency  frequency    monetary  clusters\n",
       "0   3829.0          1   30.000000         1\n",
       "1    343.0          7   71.428571         3\n",
       "2    758.0         10  115.800000         3\n",
       "3   1401.0          1   20.000000         4\n",
       "4   2970.0          2   50.000000         1"
      ]
     },
     "execution_count": 669,
     "metadata": {
      "tags": []
     },
     "output_type": "execute_result"
    }
   ],
   "source": [
    "customer_1.head()"
   ]
  },
  {
   "cell_type": "code",
   "execution_count": null,
   "metadata": {
    "colab": {},
    "colab_type": "code",
    "id": "HgeIqJ7gneFe",
    "outputId": "707cb9d4-df8a-4548-ed8c-4d851fde38a7"
   },
   "outputs": [
    {
     "data": {
      "image/png": "[encoded data removed]",
      "text/plain": [
       "<Figure size 720x360 with 1 Axes>"
      ]
     },
     "metadata": {
      "tags": []
     },
     "output_type": "display_data"
    }
   ],
   "source": [
    "plt.figure(figsize=(10,5))\n",
    "sns.distplot(kmeans_5.labels_, kde=False)\n",
    "plt.grid(b=None)"
   ]
  },
  {
   "cell_type": "code",
   "execution_count": null,
   "metadata": {
    "colab": {},
    "colab_type": "code",
    "id": "ZRXlSvLXneFf"
   },
   "outputs": [],
   "source": [
    "cluster_5 = customer_1.groupby(['clusters']).mean().reset_index()"
   ]
  },
  {
   "cell_type": "code",
   "execution_count": null,
   "metadata": {
    "colab": {},
    "colab_type": "code",
    "id": "kiO3SXJtneFh",
    "outputId": "c24719ca-89cb-421c-c652-0f5c967e8a32"
   },
   "outputs": [
    {
     "data": {
      "text/html": [
       "<div>\n",
       "<style scoped>\n",
       "    .dataframe tbody tr th:only-of-type {\n",
       "        vertical-align: middle;\n",
       "    }\n",
       "\n",
       "    .dataframe tbody tr th {\n",
       "        vertical-align: top;\n",
       "    }\n",
       "\n",
       "    .dataframe thead th {\n",
       "        text-align: right;\n",
       "    }\n",
       "</style>\n",
       "<table border=\"1\" class=\"dataframe\">\n",
       "  <thead>\n",
       "    <tr style=\"text-align: right;\">\n",
       "      <th></th>\n",
       "      <th>clusters</th>\n",
       "      <th>recency</th>\n",
       "      <th>frequency</th>\n",
       "      <th>monetary</th>\n",
       "    </tr>\n",
       "  </thead>\n",
       "  <tbody>\n",
       "    <tr>\n",
       "      <td>0</td>\n",
       "      <td>0</td>\n",
       "      <td>668.140687</td>\n",
       "      <td>2.169900</td>\n",
       "      <td>67.023549</td>\n",
       "    </tr>\n",
       "    <tr>\n",
       "      <td>1</td>\n",
       "      <td>1</td>\n",
       "      <td>2607.067429</td>\n",
       "      <td>1.506500</td>\n",
       "      <td>31.266133</td>\n",
       "    </tr>\n",
       "    <tr>\n",
       "      <td>2</td>\n",
       "      <td>2</td>\n",
       "      <td>1033.536364</td>\n",
       "      <td>2.927273</td>\n",
       "      <td>529.979909</td>\n",
       "    </tr>\n",
       "    <tr>\n",
       "      <td>3</td>\n",
       "      <td>3</td>\n",
       "      <td>304.247140</td>\n",
       "      <td>9.233867</td>\n",
       "      <td>52.457730</td>\n",
       "    </tr>\n",
       "    <tr>\n",
       "      <td>4</td>\n",
       "      <td>4</td>\n",
       "      <td>693.544352</td>\n",
       "      <td>2.020094</td>\n",
       "      <td>24.040268</td>\n",
       "    </tr>\n",
       "  </tbody>\n",
       "</table>\n",
       "</div>"
      ],
      "text/plain": [
       "   clusters      recency  frequency    monetary\n",
       "0         0   668.140687   2.169900   67.023549\n",
       "1         1  2607.067429   1.506500   31.266133\n",
       "2         2  1033.536364   2.927273  529.979909\n",
       "3         3   304.247140   9.233867   52.457730\n",
       "4         4   693.544352   2.020094   24.040268"
      ]
     },
     "execution_count": 672,
     "metadata": {
      "tags": []
     },
     "output_type": "execute_result"
    }
   ],
   "source": [
    "cluster_5"
   ]
  },
  {
   "cell_type": "code",
   "execution_count": null,
   "metadata": {
    "colab": {},
    "colab_type": "code",
    "id": "MGUkZfp1neFj"
   },
   "outputs": [],
   "source": [
    "cluster_5['total_monetary']= cluster_5['frequency']*cluster_5['monetary']"
   ]
  },
  {
   "cell_type": "code",
   "execution_count": null,
   "metadata": {
    "colab": {},
    "colab_type": "code",
    "id": "o1NUPsxJneFm",
    "outputId": "36d6cadc-d242-4c3a-e66b-f2813d1048a0"
   },
   "outputs": [
    {
     "data": {
      "text/html": [
       "<div>\n",
       "<style scoped>\n",
       "    .dataframe tbody tr th:only-of-type {\n",
       "        vertical-align: middle;\n",
       "    }\n",
       "\n",
       "    .dataframe tbody tr th {\n",
       "        vertical-align: top;\n",
       "    }\n",
       "\n",
       "    .dataframe thead th {\n",
       "        text-align: right;\n",
       "    }\n",
       "</style>\n",
       "<table border=\"1\" class=\"dataframe\">\n",
       "  <thead>\n",
       "    <tr style=\"text-align: right;\">\n",
       "      <th></th>\n",
       "      <th>clusters</th>\n",
       "      <th>recency</th>\n",
       "      <th>frequency</th>\n",
       "      <th>monetary</th>\n",
       "      <th>total_monetary</th>\n",
       "    </tr>\n",
       "  </thead>\n",
       "  <tbody>\n",
       "    <tr>\n",
       "      <td>0</td>\n",
       "      <td>0</td>\n",
       "      <td>668.140687</td>\n",
       "      <td>2.169900</td>\n",
       "      <td>67.023549</td>\n",
       "      <td>145.434365</td>\n",
       "    </tr>\n",
       "    <tr>\n",
       "      <td>1</td>\n",
       "      <td>1</td>\n",
       "      <td>2607.067429</td>\n",
       "      <td>1.506500</td>\n",
       "      <td>31.266133</td>\n",
       "      <td>47.102438</td>\n",
       "    </tr>\n",
       "    <tr>\n",
       "      <td>2</td>\n",
       "      <td>2</td>\n",
       "      <td>1033.536364</td>\n",
       "      <td>2.927273</td>\n",
       "      <td>529.979909</td>\n",
       "      <td>1551.395733</td>\n",
       "    </tr>\n",
       "    <tr>\n",
       "      <td>3</td>\n",
       "      <td>3</td>\n",
       "      <td>304.247140</td>\n",
       "      <td>9.233867</td>\n",
       "      <td>52.457730</td>\n",
       "      <td>484.387712</td>\n",
       "    </tr>\n",
       "    <tr>\n",
       "      <td>4</td>\n",
       "      <td>4</td>\n",
       "      <td>693.544352</td>\n",
       "      <td>2.020094</td>\n",
       "      <td>24.040268</td>\n",
       "      <td>48.563604</td>\n",
       "    </tr>\n",
       "  </tbody>\n",
       "</table>\n",
       "</div>"
      ],
      "text/plain": [
       "   clusters      recency  frequency    monetary  total_monetary\n",
       "0         0   668.140687   2.169900   67.023549      145.434365\n",
       "1         1  2607.067429   1.506500   31.266133       47.102438\n",
       "2         2  1033.536364   2.927273  529.979909     1551.395733\n",
       "3         3   304.247140   9.233867   52.457730      484.387712\n",
       "4         4   693.544352   2.020094   24.040268       48.563604"
      ]
     },
     "execution_count": 674,
     "metadata": {
      "tags": []
     },
     "output_type": "execute_result"
    }
   ],
   "source": [
    "cluster_5"
   ]
  },
  {
   "cell_type": "markdown",
   "metadata": {
    "colab_type": "text",
    "id": "kTFJNiE3neFp"
   },
   "source": [
    "## Comparison between 5 cluster and 6 cluster "
   ]
  },
  {
   "cell_type": "code",
   "execution_count": null,
   "metadata": {
    "colab": {},
    "colab_type": "code",
    "id": "WRhPckksneFq",
    "outputId": "e6487d07-3eb1-42bb-9d7b-6d5ad94bad5b"
   },
   "outputs": [
    {
     "name": "stdout",
     "output_type": "stream",
     "text": [
      "   clusters      recency  frequency    monetary  total_monetary\n",
      "0         0  2524.746744   1.638495   48.220271       79.008670\n",
      "1         1   562.937819   2.182722   68.315371      149.113443\n",
      "2         2   309.496096   9.242536   52.297284      483.359506\n",
      "3         3   671.983422   2.045496   24.640859       50.402789\n",
      "4         4   798.366483   3.119705  610.422630     1904.338738\n",
      "5         5  2557.890966   1.418138   17.520580       24.846596 \n",
      "\n",
      "--------------------------------------------------------------- \n",
      "\n",
      "   clusters      recency  frequency    monetary  total_monetary\n",
      "0         0   668.140687   2.169900   67.023549      145.434365\n",
      "1         1  2607.067429   1.506500   31.266133       47.102438\n",
      "2         2  1033.536364   2.927273  529.979909     1551.395733\n",
      "3         3   304.247140   9.233867   52.457730      484.387712\n",
      "4         4   693.544352   2.020094   24.040268       48.563604\n"
     ]
    }
   ],
   "source": [
    "print(cluster , '\\n')\n",
    "print(\"---------------------------------------------------------------\", '\\n')\n",
    "print(cluster_5)"
   ]
  },
  {
   "cell_type": "code",
   "execution_count": null,
   "metadata": {
    "colab": {},
    "colab_type": "code",
    "id": "5SvXcvcyneFz",
    "outputId": "9a995c1d-0630-4794-bdfd-9ccc6177abec"
   },
   "outputs": [
    {
     "name": "stdout",
     "output_type": "stream",
     "text": [
      "col_0     0     1     2     3    4     5\n",
      "row_0                                   \n",
      "0      3455     0     0     0    0     0\n",
      "1         0  3924     0     0    0     0\n",
      "2         0     0  2177     0    0     0\n",
      "3         0     0     0  5429    0     0\n",
      "4         0     0     0     0  543     0\n",
      "5         0     0     0     0    0  2889 \n",
      "\n",
      "--------------------------------------------------------------- \n",
      "\n",
      "col_0     0     1    2     3     4\n",
      "row_0                             \n",
      "0      4279     0    0     0     0\n",
      "1         0  5769    0     0     0\n",
      "2         0     0  660     0     0\n",
      "3         0     0    0  2185     0\n",
      "4         0     0    0     0  5524\n"
     ]
    }
   ],
   "source": [
    "print(pd.crosstab(kmeans.labels_, kmeans.labels_) , '\\n')\n",
    "print(\"---------------------------------------------------------------\", '\\n')\n",
    "print(pd.crosstab(kmeans_5.labels_, kmeans_5.labels_))"
   ]
  },
  {
   "cell_type": "code",
   "execution_count": null,
   "metadata": {
    "colab": {},
    "colab_type": "code",
    "id": "nEwYmJUyneF1",
    "outputId": "a639527a-816c-4d26-e047-09c153a2e164"
   },
   "outputs": [
    {
     "data": {
      "text/plain": [
       "<matplotlib.axes._subplots.AxesSubplot at 0x2aab5dfd3c8>"
      ]
     },
     "execution_count": 677,
     "metadata": {
      "tags": []
     },
     "output_type": "execute_result"
    },
    {
     "data": {
      "image/png": "[encoded data removed]",
      "text/plain": [
       "<Figure size 720x288 with 2 Axes>"
      ]
     },
     "metadata": {
      "tags": []
     },
     "output_type": "display_data"
    }
   ],
   "source": [
    "plt.figure(figsize=(10,4))\n",
    "plt.subplot(1,2,1)\n",
    "sns.barplot(x='clusters', y ='total_monetary', data=cluster_5)\n",
    "\n",
    "plt.subplot(1,2,2)\n",
    "sns.barplot(x='clusters', y ='total_monetary', data=cluster)"
   ]
  },
  {
   "cell_type": "code",
   "execution_count": null,
   "metadata": {
    "colab": {},
    "colab_type": "code",
    "id": "219My8I1neF3",
    "outputId": "56b22422-6460-4da4-dd36-6985cbe2febc"
   },
   "outputs": [
    {
     "data": {
      "text/plain": [
       "<matplotlib.axes._subplots.AxesSubplot at 0x2aab88bec08>"
      ]
     },
     "execution_count": 678,
     "metadata": {
      "tags": []
     },
     "output_type": "execute_result"
    },
    {
     "data": {
      "image/png": "[encoded data removed]",
      "text/plain": [
       "<Figure size 720x288 with 2 Axes>"
      ]
     },
     "metadata": {
      "tags": []
     },
     "output_type": "display_data"
    }
   ],
   "source": [
    "plt.figure(figsize=(10,4))\n",
    "plt.subplot(1,2,1)\n",
    "sns.barplot(x='clusters', y ='frequency', data=cluster_5)\n",
    "\n",
    "plt.subplot(1,2,2)\n",
    "sns.barplot(x='clusters', y ='frequency', data=cluster)"
   ]
  },
  {
   "cell_type": "code",
   "execution_count": null,
   "metadata": {
    "colab": {},
    "colab_type": "code",
    "id": "gw-4ru_BneF6",
    "outputId": "5e4b2388-ae86-4064-abcd-f7391d6d164e",
    "scrolled": true
   },
   "outputs": [
    {
     "data": {
      "text/plain": [
       "<matplotlib.axes._subplots.AxesSubplot at 0x2aab8a31ec8>"
      ]
     },
     "execution_count": 679,
     "metadata": {
      "tags": []
     },
     "output_type": "execute_result"
    },
    {
     "data": {
      "image/png": "[encoded data removed]",
      "text/plain": [
       "<Figure size 720x288 with 2 Axes>"
      ]
     },
     "metadata": {
      "tags": []
     },
     "output_type": "display_data"
    }
   ],
   "source": [
    "plt.figure(figsize=(10,4))\n",
    "plt.subplot(1,2,1)\n",
    "sns.barplot(x='clusters', y ='recency', data=cluster_5)\n",
    "\n",
    "plt.subplot(1,2,2)\n",
    "sns.barplot(x='clusters', y ='recency', data=cluster)"
   ]
  },
  {
   "cell_type": "code",
   "execution_count": null,
   "metadata": {
    "colab": {},
    "colab_type": "code",
    "id": "9gANg_vQneF9",
    "outputId": "439587b1-17f6-4145-979c-80fb44bda981"
   },
   "outputs": [
    {
     "data": {
      "text/html": [
       "<div>\n",
       "<style scoped>\n",
       "    .dataframe tbody tr th:only-of-type {\n",
       "        vertical-align: middle;\n",
       "    }\n",
       "\n",
       "    .dataframe tbody tr th {\n",
       "        vertical-align: top;\n",
       "    }\n",
       "\n",
       "    .dataframe thead th {\n",
       "        text-align: right;\n",
       "    }\n",
       "</style>\n",
       "<table border=\"1\" class=\"dataframe\">\n",
       "  <thead>\n",
       "    <tr style=\"text-align: right;\">\n",
       "      <th></th>\n",
       "      <th>recency</th>\n",
       "      <th>frequency</th>\n",
       "      <th>monetary</th>\n",
       "      <th>clusters</th>\n",
       "    </tr>\n",
       "  </thead>\n",
       "  <tbody>\n",
       "    <tr>\n",
       "      <td>0</td>\n",
       "      <td>3829.0</td>\n",
       "      <td>1</td>\n",
       "      <td>30.000000</td>\n",
       "      <td>0</td>\n",
       "    </tr>\n",
       "    <tr>\n",
       "      <td>1</td>\n",
       "      <td>343.0</td>\n",
       "      <td>7</td>\n",
       "      <td>71.428571</td>\n",
       "      <td>2</td>\n",
       "    </tr>\n",
       "    <tr>\n",
       "      <td>2</td>\n",
       "      <td>758.0</td>\n",
       "      <td>10</td>\n",
       "      <td>115.800000</td>\n",
       "      <td>2</td>\n",
       "    </tr>\n",
       "    <tr>\n",
       "      <td>3</td>\n",
       "      <td>1401.0</td>\n",
       "      <td>1</td>\n",
       "      <td>20.000000</td>\n",
       "      <td>3</td>\n",
       "    </tr>\n",
       "    <tr>\n",
       "      <td>4</td>\n",
       "      <td>2970.0</td>\n",
       "      <td>2</td>\n",
       "      <td>50.000000</td>\n",
       "      <td>0</td>\n",
       "    </tr>\n",
       "    <tr>\n",
       "      <td>...</td>\n",
       "      <td>...</td>\n",
       "      <td>...</td>\n",
       "      <td>...</td>\n",
       "      <td>...</td>\n",
       "    </tr>\n",
       "    <tr>\n",
       "      <td>18412</td>\n",
       "      <td>1.0</td>\n",
       "      <td>1</td>\n",
       "      <td>10.000000</td>\n",
       "      <td>3</td>\n",
       "    </tr>\n",
       "    <tr>\n",
       "      <td>18413</td>\n",
       "      <td>135.0</td>\n",
       "      <td>1</td>\n",
       "      <td>50.000000</td>\n",
       "      <td>1</td>\n",
       "    </tr>\n",
       "    <tr>\n",
       "      <td>18414</td>\n",
       "      <td>34.0</td>\n",
       "      <td>1</td>\n",
       "      <td>20.000000</td>\n",
       "      <td>3</td>\n",
       "    </tr>\n",
       "    <tr>\n",
       "      <td>18415</td>\n",
       "      <td>5.0</td>\n",
       "      <td>1</td>\n",
       "      <td>54.000000</td>\n",
       "      <td>1</td>\n",
       "    </tr>\n",
       "    <tr>\n",
       "      <td>18416</td>\n",
       "      <td>1.0</td>\n",
       "      <td>1</td>\n",
       "      <td>500.000000</td>\n",
       "      <td>4</td>\n",
       "    </tr>\n",
       "  </tbody>\n",
       "</table>\n",
       "<p>18417 rows × 4 columns</p>\n",
       "</div>"
      ],
      "text/plain": [
       "       recency  frequency    monetary  clusters\n",
       "0       3829.0          1   30.000000         0\n",
       "1        343.0          7   71.428571         2\n",
       "2        758.0         10  115.800000         2\n",
       "3       1401.0          1   20.000000         3\n",
       "4       2970.0          2   50.000000         0\n",
       "...        ...        ...         ...       ...\n",
       "18412      1.0          1   10.000000         3\n",
       "18413    135.0          1   50.000000         1\n",
       "18414     34.0          1   20.000000         3\n",
       "18415      5.0          1   54.000000         1\n",
       "18416      1.0          1  500.000000         4\n",
       "\n",
       "[18417 rows x 4 columns]"
      ]
     },
     "execution_count": 680,
     "metadata": {
      "tags": []
     },
     "output_type": "execute_result"
    }
   ],
   "source": [
    "customer"
   ]
  },
  {
   "cell_type": "markdown",
   "metadata": {
    "colab_type": "text",
    "id": "-H8w56LhneF_"
   },
   "source": [
    "## Comparison of clusters for selection"
   ]
  },
  {
   "cell_type": "code",
   "execution_count": null,
   "metadata": {
    "colab": {},
    "colab_type": "code",
    "id": "iuqpBq9eneGA"
   },
   "outputs": [],
   "source": [
    "cluster_4= customer[customer['clusters']==4]"
   ]
  },
  {
   "cell_type": "code",
   "execution_count": null,
   "metadata": {
    "colab": {},
    "colab_type": "code",
    "id": "_0FRkr9sneGC",
    "outputId": "dc37cbe0-7ff9-41ac-cdea-47507f8d4bd3"
   },
   "outputs": [
    {
     "data": {
      "text/plain": [
       "<matplotlib.axes._subplots.AxesSubplot at 0x2aab8754e48>"
      ]
     },
     "execution_count": 682,
     "metadata": {
      "tags": []
     },
     "output_type": "execute_result"
    },
    {
     "data": {
      "image/png": "[encoded data removed]",
      "text/plain": [
       "<Figure size 432x288 with 1 Axes>"
      ]
     },
     "metadata": {
      "tags": []
     },
     "output_type": "display_data"
    }
   ],
   "source": [
    "sns.distplot(cluster_4['monetary'])"
   ]
  },
  {
   "cell_type": "code",
   "execution_count": null,
   "metadata": {
    "colab": {},
    "colab_type": "code",
    "id": "yezmH315neGD",
    "outputId": "064bb51c-638f-4bab-d6ab-3659437cab87"
   },
   "outputs": [
    {
     "data": {
      "text/plain": [
       "count     543.000000\n",
       "mean      610.422630\n",
       "std       681.011382\n",
       "min       142.857143\n",
       "25%       200.000000\n",
       "50%       340.000000\n",
       "75%       740.000000\n",
       "max      4500.000000\n",
       "Name: monetary, dtype: float64"
      ]
     },
     "execution_count": 683,
     "metadata": {
      "tags": []
     },
     "output_type": "execute_result"
    }
   ],
   "source": [
    "cluster_4.monetary.describe()"
   ]
  },
  {
   "cell_type": "code",
   "execution_count": null,
   "metadata": {
    "colab": {},
    "colab_type": "code",
    "id": "a7yA8xarneGF",
    "outputId": "d7e0ffaf-bcf7-4d02-d177-dcb1f21a69b4"
   },
   "outputs": [
    {
     "data": {
      "text/plain": [
       "recency      148\n",
       "frequency    148\n",
       "monetary     148\n",
       "clusters     148\n",
       "dtype: int64"
      ]
     },
     "execution_count": 684,
     "metadata": {
      "tags": []
     },
     "output_type": "execute_result"
    }
   ],
   "source": [
    "cluster_4[cluster_4['monetary']<200].count()"
   ]
  },
  {
   "cell_type": "code",
   "execution_count": null,
   "metadata": {
    "colab": {},
    "colab_type": "code",
    "id": "yRhsoTiVneGG",
    "outputId": "32f1b915-1f51-44f2-a7a2-a000e4d105e8"
   },
   "outputs": [
    {
     "data": {
      "text/plain": [
       "recency      120\n",
       "frequency    120\n",
       "monetary     120\n",
       "clusters     120\n",
       "dtype: int64"
      ]
     },
     "execution_count": 685,
     "metadata": {
      "tags": []
     },
     "output_type": "execute_result"
    }
   ],
   "source": [
    "cluster_4[cluster_4['monetary']>900].count()"
   ]
  },
  {
   "cell_type": "code",
   "execution_count": null,
   "metadata": {
    "colab": {},
    "colab_type": "code",
    "id": "pfwuiOvhneGJ"
   },
   "outputs": [],
   "source": [
    "cluster_2= customer[customer['clusters']==2]"
   ]
  },
  {
   "cell_type": "code",
   "execution_count": null,
   "metadata": {
    "colab": {},
    "colab_type": "code",
    "id": "Owf9MozPneGN",
    "outputId": "5a99b2ce-4f3c-474d-e4c0-41ffd6bde5ed"
   },
   "outputs": [
    {
     "data": {
      "text/plain": [
       "count    2177.000000\n",
       "mean       52.297284\n",
       "std        43.610842\n",
       "min         6.750000\n",
       "25%        29.375000\n",
       "50%        40.000000\n",
       "75%        60.000000\n",
       "max       944.444444\n",
       "Name: monetary, dtype: float64"
      ]
     },
     "execution_count": 687,
     "metadata": {
      "tags": []
     },
     "output_type": "execute_result"
    }
   ],
   "source": [
    "cluster_2.monetary.describe()"
   ]
  },
  {
   "cell_type": "code",
   "execution_count": null,
   "metadata": {
    "colab": {},
    "colab_type": "code",
    "id": "b6388UGbneGQ"
   },
   "outputs": [],
   "source": [
    "cluster_3= customer[customer['clusters']==3]"
   ]
  },
  {
   "cell_type": "code",
   "execution_count": null,
   "metadata": {
    "colab": {},
    "colab_type": "code",
    "id": "McZg3FM6neGT",
    "outputId": "9be3fd30-200c-435f-f98f-f28e404eafaf"
   },
   "outputs": [
    {
     "data": {
      "text/plain": [
       "count    5429.000000\n",
       "mean       24.640859\n",
       "std         7.490477\n",
       "min         5.000000\n",
       "25%        20.000000\n",
       "50%        28.000000\n",
       "75%        30.000000\n",
       "max        40.000000\n",
       "Name: monetary, dtype: float64"
      ]
     },
     "execution_count": 689,
     "metadata": {
      "tags": []
     },
     "output_type": "execute_result"
    }
   ],
   "source": [
    "cluster_3.monetary.describe()"
   ]
  },
  {
   "cell_type": "markdown",
   "metadata": {
    "colab_type": "text",
    "id": "dMYIOoP8neGW"
   },
   "source": [
    "## Analysis\n",
    "\n",
    "### we are selecting cluster_2 because of its high frequency value, good recency and overall good monetary average. \n",
    "\n",
    "### Maximum monetary value for cluster_2 is 944 whereas in case of cluster_4 the monetary value above 900 is 120(count).\n",
    "\n",
    "### The monetary value of cluster 3 is very less, Max(40). with an customer segment around 5429. moreover on selecting the customer might result in less or no profit/gain (taking marketing cost into account)\n",
    "\n",
    "### So we have selected cluster 2 and cluster 4 "
   ]
  }
 ],
 "metadata": {
  "colab": {
   "name": "Kmeans.ipynb",
   "provenance": []
  },
  "kernelspec": {
   "display_name": "Python 3",
   "language": "python",
   "name": "python3"
  },
  "language_info": {
   "codemirror_mode": {
    "name": "ipython",
    "version": 3
   },
   "file_extension": ".py",
   "mimetype": "text/x-python",
   "name": "python",
   "nbconvert_exporter": "python",
   "pygments_lexer": "ipython3",
   "version": "3.7.4"
  }
 },
 "nbformat": 4,
 "nbformat_minor": 1
}
